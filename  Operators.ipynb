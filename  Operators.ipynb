{
 "cells": [
  {
   "cell_type": "markdown",
   "id": "a3151f3a-5e2a-410b-8d18-126fde42e6e4",
   "metadata": {},
   "source": [
    "# Operators\n",
    "#### 1. Arithmetic operators\n",
    "##### *Addition (+)\n",
    "##### *Subtraction (-)\n",
    "##### *Multiplication (*)\n",
    "##### *Division (/)\n",
    "##### *Modulus (%)\n",
    "##### *Exponentiation (**)\n",
    "\n",
    "#### 2. Assignment operators \n",
    "##### *Assignment (=)\n",
    "##### *Addition Assignment (+=)\n",
    "##### *Subtraction Assignment (-=)\n",
    "##### *Multiplication Assignment (*=)\n",
    "##### *Division Assignment (/=)\n",
    "\n",
    "\n",
    "#### 3. Logical operators\n",
    "##### Logical AND\n",
    "##### Logical OR\n",
    "##### Logical NOT (not)\n",
    "\n",
    "#### 4. Bitwise operators\n",
    "##### Bitwise AND (&)\n",
    "##### Bitwise OR (|)\n",
    "##### Bitwise NOT (~)\n",
    "##### XOR (^)\n",
    "##### Left Shift (<<)\n",
    "##### Right sift (>>)\n",
    "\n",
    "\n",
    "#### 5. Comparison operators\n",
    "#### 6. Identity operators\n",
    "#### 7. membership operators "
   ]
  },
  {
   "cell_type": "markdown",
   "id": "e5055916-9e2b-41cc-aec4-06c5507dcc38",
   "metadata": {},
   "source": [
    "# 1.Arithmatic opreators\n",
    "\n",
    " "
   ]
  },
  {
   "cell_type": "code",
   "execution_count": 10,
   "id": "c2d224d4-21b9-48de-9f03-d6eaa0c48909",
   "metadata": {},
   "outputs": [
    {
     "data": {
      "text/plain": [
       "3"
      ]
     },
     "execution_count": 10,
     "metadata": {},
     "output_type": "execute_result"
    }
   ],
   "source": [
    "# Addition\n",
    "\n",
    "2+1"
   ]
  },
  {
   "cell_type": "code",
   "execution_count": 35,
   "id": "753d5e3a-a63f-49d9-95ad-717719a75d1d",
   "metadata": {},
   "outputs": [
    {
     "name": "stdout",
     "output_type": "stream",
     "text": [
      "8\n",
      "10\n",
      "15\n"
     ]
    }
   ],
   "source": [
    "a = 7+1\n",
    "print (a)\n",
    "\n",
    "b = 5\n",
    "C = 5\n",
    "print (b+C)\n",
    "\n",
    "\n",
    "\n",
    "b = 5\n",
    "c = 10\n",
    "d = b + c \n",
    "\n",
    "print (d)\n"
   ]
  },
  {
   "cell_type": "code",
   "execution_count": 41,
   "id": "71d3c802-e3dd-4402-87d5-28af7db321e2",
   "metadata": {},
   "outputs": [
    {
     "data": {
      "text/plain": [
       "1"
      ]
     },
     "execution_count": 41,
     "metadata": {},
     "output_type": "execute_result"
    }
   ],
   "source": [
    "# Subtraction\n",
    "\n",
    "2-1"
   ]
  },
  {
   "cell_type": "code",
   "execution_count": 40,
   "id": "37ff08b3-d8a8-474e-9f7f-140f23c09db5",
   "metadata": {},
   "outputs": [
    {
     "name": "stdout",
     "output_type": "stream",
     "text": [
      "6\n",
      "0\n",
      "5\n"
     ]
    }
   ],
   "source": [
    "a = 7-1\n",
    "print (a)\n",
    "\n",
    "b = 5\n",
    "C = 5\n",
    "print (b-C)\n",
    "\n",
    "\n",
    "\n",
    "b = 15\n",
    "c = 10\n",
    "d = b - c \n",
    "\n",
    "print (d)\n"
   ]
  },
  {
   "cell_type": "code",
   "execution_count": 42,
   "id": "c4a23aaf-b5d6-458f-9ef1-022715adaac2",
   "metadata": {},
   "outputs": [
    {
     "data": {
      "text/plain": [
       "6"
      ]
     },
     "execution_count": 42,
     "metadata": {},
     "output_type": "execute_result"
    }
   ],
   "source": [
    "#Multiplication\t\n",
    "\n",
    "2*3"
   ]
  },
  {
   "cell_type": "code",
   "execution_count": 43,
   "id": "72186818-a6bc-44a4-b867-20a849c2b03c",
   "metadata": {},
   "outputs": [
    {
     "name": "stdout",
     "output_type": "stream",
     "text": [
      "7\n",
      "25\n",
      "50\n"
     ]
    }
   ],
   "source": [
    "a = 7*1\n",
    "print (a)\n",
    "\n",
    "b = 5\n",
    "C = 5\n",
    "print (b*C)\n",
    "\n",
    "b = 5\n",
    "c = 10\n",
    "d = b * c \n",
    "\n",
    "print (d)\n"
   ]
  },
  {
   "cell_type": "code",
   "execution_count": 47,
   "id": "fb7c4509-ee6d-432b-8bc7-e8044c39ca78",
   "metadata": {},
   "outputs": [
    {
     "data": {
      "text/plain": [
       "5.0"
      ]
     },
     "execution_count": 47,
     "metadata": {},
     "output_type": "execute_result"
    }
   ],
   "source": [
    "#Division\n",
    "\n",
    "10/2\n",
    "\n"
   ]
  },
  {
   "cell_type": "code",
   "execution_count": 48,
   "id": "1341561c-d972-4d8d-a630-a20b8304d4f4",
   "metadata": {},
   "outputs": [
    {
     "name": "stdout",
     "output_type": "stream",
     "text": [
      "7.0\n",
      "3.0\n",
      "5.0\n"
     ]
    }
   ],
   "source": [
    "a = 7/1\n",
    "print (a)\n",
    "\n",
    "b = 15\n",
    "C = 5\n",
    "print (b/C)\n",
    "\n",
    "\n",
    "\n",
    "b = 50\n",
    "c = 10\n",
    "d = b / c \n",
    "\n",
    "print (d)\n"
   ]
  },
  {
   "cell_type": "code",
   "execution_count": 54,
   "id": "da57167b-cffd-43f5-800a-35d05fc6d79c",
   "metadata": {},
   "outputs": [
    {
     "data": {
      "text/plain": [
       "3"
      ]
     },
     "execution_count": 54,
     "metadata": {},
     "output_type": "execute_result"
    }
   ],
   "source": [
    "#Floor Division\t\n",
    "''' जब किसी पूर्णांक की आवश्यकता होती है या आपको सबसे छोटा पूर्णांक लौटाना होता है जो इनपुट से कम या बराबर होता है,\n",
    "तो आप आमतौर पर फ़्लोर डिवीजन ऑपरेटर (/) का उपयोग करते हैं। यदि दोनों ऑपरेंड पूर्णांक हैं, तो आउटपुट पूर्णांक होगा। यदि कोई भी ऑपरेंड फ़्लोट है,\n",
    "तो परिणाम फ़्लोट डेटाटाइप होगा।'''\n",
    "\n",
    "10//3"
   ]
  },
  {
   "cell_type": "code",
   "execution_count": 60,
   "id": "0b16bf9b-021d-478d-961e-48a1de8f2b85",
   "metadata": {},
   "outputs": [
    {
     "data": {
      "text/plain": [
       "1"
      ]
     },
     "execution_count": 60,
     "metadata": {},
     "output_type": "execute_result"
    }
   ],
   "source": [
    "#modulus operator\n",
    "#जब एक संख्या को दूसरे से विभाजित किया जाता है तो शेषफल ज्ञात करने के लिए modulus operator (%) का उपयोग किया जाता है।\n",
    "\n",
    "11%5\n"
   ]
  },
  {
   "cell_type": "code",
   "execution_count": 65,
   "id": "ade3e525-0917-488f-930a-9a146ea72274",
   "metadata": {},
   "outputs": [
    {
     "data": {
      "text/plain": [
       "(4, 8)"
      ]
     },
     "execution_count": 65,
     "metadata": {},
     "output_type": "execute_result"
    }
   ],
   "source": [
    "#Exponentiation\\Power (**)\n",
    "\n",
    "2**2, 2**3"
   ]
  },
  {
   "cell_type": "code",
   "execution_count": 70,
   "id": "db18965f-fbc6-4227-861d-4f0f560c2c8e",
   "metadata": {},
   "outputs": [
    {
     "name": "stdout",
     "output_type": "stream",
     "text": [
      "3125 16777216 100\n"
     ]
    }
   ],
   "source": [
    "a = 5**5\n",
    "b = 8**8\n",
    "c = 10**2\n",
    "\n",
    "print (a,b,c)"
   ]
  },
  {
   "cell_type": "markdown",
   "id": "0abd68d0-4ea5-42bd-9686-972b2c2408d5",
   "metadata": {},
   "source": [
    "# 2.Assignment operators"
   ]
  },
  {
   "cell_type": "code",
   "execution_count": 2,
   "id": "28b7dce8-0b07-4c70-95ac-db3a66706131",
   "metadata": {},
   "outputs": [
    {
     "data": {
      "text/plain": [
       "2"
      ]
     },
     "execution_count": 2,
     "metadata": {},
     "output_type": "execute_result"
    }
   ],
   "source": [
    "#Assignment (=)\n",
    "\n",
    "a = 2\n",
    "a"
   ]
  },
  {
   "cell_type": "code",
   "execution_count": 8,
   "id": "c0bbbc4e-8c72-47e2-832f-041b494bebba",
   "metadata": {},
   "outputs": [
    {
     "data": {
      "text/plain": [
       "6"
      ]
     },
     "execution_count": 8,
     "metadata": {},
     "output_type": "execute_result"
    }
   ],
   "source": [
    "#Addition Assignment (+=)\n",
    "\n",
    "#First methord\n",
    "\n",
    "b=4\n",
    "b+2"
   ]
  },
  {
   "cell_type": "code",
   "execution_count": 20,
   "id": "637d56dc-21d3-4d59-a407-59085498cf43",
   "metadata": {},
   "outputs": [
    {
     "data": {
      "text/plain": [
       "4"
      ]
     },
     "execution_count": 20,
     "metadata": {},
     "output_type": "execute_result"
    }
   ],
   "source": [
    "#Second Methord\n",
    "b = 2\n",
    "b=b+2\n",
    "b"
   ]
  },
  {
   "cell_type": "code",
   "execution_count": 19,
   "id": "3f793743-9a9e-47e2-9a0d-d7c377c3f3d3",
   "metadata": {},
   "outputs": [
    {
     "data": {
      "text/plain": [
       "10"
      ]
     },
     "execution_count": 19,
     "metadata": {},
     "output_type": "execute_result"
    }
   ],
   "source": [
    "#Therd Methord\n",
    "b=6\n",
    "b+=4\n",
    "b"
   ]
  },
  {
   "cell_type": "code",
   "execution_count": 21,
   "id": "d53ff54e-6f91-43bb-8260-5235a064b87d",
   "metadata": {},
   "outputs": [
    {
     "data": {
      "text/plain": [
       "2"
      ]
     },
     "execution_count": 21,
     "metadata": {},
     "output_type": "execute_result"
    }
   ],
   "source": [
    "#Subtraction Assignment (-=)\n",
    "b=6\n",
    "b-=4\n",
    "b"
   ]
  },
  {
   "cell_type": "code",
   "execution_count": 14,
   "id": "b5beaa8c-dfe9-4806-b258-fa7c17614b0c",
   "metadata": {},
   "outputs": [
    {
     "data": {
      "text/plain": [
       "24"
      ]
     },
     "execution_count": 14,
     "metadata": {},
     "output_type": "execute_result"
    }
   ],
   "source": [
    "#Multiplication Assignment (*=)\n",
    "b=6\n",
    "b*=4\n",
    "b"
   ]
  },
  {
   "cell_type": "code",
   "execution_count": 16,
   "id": "b8579b8c-d36f-46a7-a9ee-f233477c5249",
   "metadata": {},
   "outputs": [
    {
     "data": {
      "text/plain": [
       "3.0"
      ]
     },
     "execution_count": 16,
     "metadata": {},
     "output_type": "execute_result"
    }
   ],
   "source": [
    "#Division Assignment (/=)\n",
    "b=6\n",
    "b/=2\n",
    "b"
   ]
  },
  {
   "cell_type": "markdown",
   "id": "5260c6ea-f15a-495c-a7b2-33494a87f9e1",
   "metadata": {},
   "source": [
    "# 3. Logical Opreators\n",
    "\n",
    "* Logical AND\n",
    "* Logical OR\n",
    "* Logical NOT (not)\n",
    "\n",
    "EXAMPLE : -\n",
    "\n",
    "Logical AND -->> This returns True if both x and y are true\n",
    "\n",
    "Logical OR -->>  This returns True if one of  x or y are true\n",
    "\n",
    "Logical NOT (not) -->> Reverses a result, so if something is True , not turns it False\n",
    "\n",
    "True = 1\n",
    "\n",
    "False = 0\n",
    "\n",
    "True - False = 1\n",
    "\n",
    "Example -->>\n",
    "\n",
    "AND =  6>3 and 5<10 सत्य है\n",
    "\n",
    "OR  =  6>3 or 5>10 सत्य है\n",
    "\n",
    "NOT =  not(5 < 2) सत्य है\n"
   ]
  },
  {
   "cell_type": "code",
   "execution_count": 27,
   "id": "1f3dfce0-2bf9-4e3b-9cb5-57ee52196b2f",
   "metadata": {},
   "outputs": [
    {
     "data": {
      "text/plain": [
       "False"
      ]
     },
     "execution_count": 27,
     "metadata": {},
     "output_type": "execute_result"
    }
   ],
   "source": [
    "#Logical AND\n",
    "\n",
    "True and False\n",
    "False and True"
   ]
  },
  {
   "cell_type": "code",
   "execution_count": 35,
   "id": "6109a189-dbd3-4740-9ed5-fe513febec37",
   "metadata": {},
   "outputs": [
    {
     "name": "stdout",
     "output_type": "stream",
     "text": [
      "False\n",
      "False\n",
      "False\n",
      "True\n",
      "0\n",
      "0\n",
      "1\n",
      "0\n"
     ]
    }
   ],
   "source": [
    "a= True and False\n",
    "b= False and True\n",
    "c= False and False\n",
    "d= True and True\n",
    "print (a)\n",
    "print (b)\n",
    "print (c)\n",
    "print (d)\n",
    "\n",
    "g= 0 and 1\n",
    "h= 0 and 1\n",
    "i= 1 and 1\n",
    "j= 0 and 0 \n",
    "print (g)\n",
    "print (h)\n",
    "print (i)\n",
    "print (j)\n"
   ]
  },
  {
   "cell_type": "code",
   "execution_count": 39,
   "id": "d84e0ef2-fd51-4089-a6f5-69d11a7d1908",
   "metadata": {},
   "outputs": [
    {
     "name": "stdout",
     "output_type": "stream",
     "text": [
      "True\n",
      "True\n",
      "False\n",
      "True\n"
     ]
    }
   ],
   "source": [
    "#Logical OR\n",
    "\n",
    "## Logical OR -->>  This returns True if one of  x or y are true.\n",
    "\n",
    "\n",
    "a= True or False\n",
    "b= False or True\n",
    "c= False or False\n",
    "d= True or True\n",
    "print (a)\n",
    "print (b)\n",
    "print (c)\n",
    "print (d)"
   ]
  },
  {
   "cell_type": "code",
   "execution_count": 42,
   "id": "a4fc14f0-6a5d-4634-bacb-2fbe21c2db10",
   "metadata": {},
   "outputs": [
    {
     "name": "stdout",
     "output_type": "stream",
     "text": [
      "False\n",
      "True\n"
     ]
    }
   ],
   "source": [
    "#Logical NOT (not)\n",
    "\n",
    "a= not True\n",
    "b = not False\n",
    "\n",
    "print(a)\n",
    "print(b)\n"
   ]
  },
  {
   "cell_type": "markdown",
   "id": "09a37169-a553-43da-ac3f-4b60335cbd71",
   "metadata": {},
   "source": [
    "# 4. Bitwise operators\n"
   ]
  },
  {
   "cell_type": "code",
   "execution_count": 3,
   "id": "623fa146-7158-487f-80af-ff6d7fbf506d",
   "metadata": {},
   "outputs": [
    {
     "data": {
      "text/plain": [
       "2"
      ]
     },
     "execution_count": 3,
     "metadata": {},
     "output_type": "execute_result"
    }
   ],
   "source": [
    "##### Bitwise AND (&)\n",
    "\n",
    "#AND Operator me x and y ka bit number nikal kar,logical and me x or y ki value ko count kare gy then jo value mile gi uski binary value check kar ke gy wahi answer ho ga EXAMPLE :- 18 & 3\n",
    "\n",
    "\n",
    "2 & 3"
   ]
  },
  {
   "cell_type": "code",
   "execution_count": 8,
   "id": "1ac6993e-134b-40d8-ae45-bea01370341b",
   "metadata": {},
   "outputs": [
    {
     "data": {
      "text/plain": [
       "3"
      ]
     },
     "execution_count": 8,
     "metadata": {},
     "output_type": "execute_result"
    }
   ],
   "source": [
    "##### Bitwise OR (|)\n",
    "\n",
    "2|3"
   ]
  },
  {
   "cell_type": "code",
   "execution_count": 10,
   "id": "229a1895-cc70-4d1b-bff9-08c48a9b7925",
   "metadata": {},
   "outputs": [
    {
     "data": {
      "text/plain": [
       "-101"
      ]
     },
     "execution_count": 10,
     "metadata": {},
     "output_type": "execute_result"
    }
   ],
   "source": [
    "#Bitwise NOT (nigation)(~)\n",
    "\n",
    "# it always gives one higer value of that that entered \n",
    "\n",
    "~100"
   ]
  },
  {
   "cell_type": "code",
   "execution_count": 13,
   "id": "09e21170-febc-411d-acd8-d916ab93da4a",
   "metadata": {},
   "outputs": [
    {
     "data": {
      "text/plain": [
       "4"
      ]
     },
     "execution_count": 13,
     "metadata": {},
     "output_type": "execute_result"
    }
   ],
   "source": [
    "#### XOR (^)\n",
    "\n",
    "2^6"
   ]
  },
  {
   "cell_type": "code",
   "execution_count": 16,
   "id": "f550b0bf-84d5-45f5-98ff-7b8aad1d9787",
   "metadata": {},
   "outputs": [
    {
     "data": {
      "text/plain": [
       "280"
      ]
     },
     "execution_count": 16,
     "metadata": {},
     "output_type": "execute_result"
    }
   ],
   "source": [
    "##### Left Shift (<<)\n",
    "35 << 3\n",
    "\n"
   ]
  },
  {
   "cell_type": "code",
   "execution_count": 17,
   "id": "0bf4b265-c207-40f6-8685-5dd8913ca8b9",
   "metadata": {},
   "outputs": [
    {
     "data": {
      "text/plain": [
       "'0b100011'"
      ]
     },
     "execution_count": 17,
     "metadata": {},
     "output_type": "execute_result"
    }
   ],
   "source": [
    "bin(35)"
   ]
  },
  {
   "cell_type": "code",
   "execution_count": 19,
   "id": "1ca4eab8-c615-47ef-9bd4-08489add263c",
   "metadata": {},
   "outputs": [
    {
     "data": {
      "text/plain": [
       "'0b11'"
      ]
     },
     "execution_count": 19,
     "metadata": {},
     "output_type": "execute_result"
    }
   ],
   "source": [
    "bin(3)"
   ]
  },
  {
   "cell_type": "code",
   "execution_count": null,
   "id": "e2c3cf6d-945d-4a07-af85-8162df44e0e4",
   "metadata": {},
   "outputs": [],
   "source": [
    "# Right sift (>>)\n",
    "35 << 3"
   ]
  },
  {
   "cell_type": "code",
   "execution_count": null,
   "id": "3c0d09eb-3e38-48b0-b941-fe21f4372823",
   "metadata": {},
   "outputs": [],
   "source": []
  },
  {
   "cell_type": "code",
   "execution_count": null,
   "id": "75c674dc-130a-4a0e-b433-50007fd22124",
   "metadata": {},
   "outputs": [],
   "source": []
  },
  {
   "cell_type": "code",
   "execution_count": null,
   "id": "18d18c55-99a9-4f4e-a5f2-08bc61dec85f",
   "metadata": {},
   "outputs": [],
   "source": []
  }
 ],
 "metadata": {
  "kernelspec": {
   "display_name": "Python 3 (ipykernel)",
   "language": "python",
   "name": "python3"
  },
  "language_info": {
   "codemirror_mode": {
    "name": "ipython",
    "version": 3
   },
   "file_extension": ".py",
   "mimetype": "text/x-python",
   "name": "python",
   "nbconvert_exporter": "python",
   "pygments_lexer": "ipython3",
   "version": "3.10.8"
  }
 },
 "nbformat": 4,
 "nbformat_minor": 5
}
