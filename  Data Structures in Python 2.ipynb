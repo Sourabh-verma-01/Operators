{
 "cells": [
  {
   "cell_type": "markdown",
   "id": "9c28fc82-88b9-43f3-b2c2-ce840d254a78",
   "metadata": {},
   "source": [
    "\n"
   ]
  },
  {
   "cell_type": "code",
   "execution_count": 1,
   "id": "016e2c21-dce5-4907-8289-38cbdc285334",
   "metadata": {},
   "outputs": [
    {
     "name": "stdout",
     "output_type": "stream",
     "text": [
      "hbaruoS\n"
     ]
    }
   ],
   "source": [
    "# Q1. --> write a program reverse a string.\n",
    "\n",
    "def my_function(x):\n",
    "  return x[::-1]\n",
    "\n",
    "mytxt = my_function(\"Sourabh\")\n",
    "\n",
    "print(mytxt)"
   ]
  },
  {
   "cell_type": "code",
   "execution_count": 2,
   "id": "7bcb519a-19db-45bf-9925-e8d9a9b0a2e6",
   "metadata": {},
   "outputs": [
    {
     "name": "stdout",
     "output_type": "stream",
     "text": [
      "No. of vowels : 5\n"
     ]
    }
   ],
   "source": [
    "# Q2. --> Write a code to count the number of vowels in a string.\n",
    "\n",
    "def vowel_count(str):\n",
    "    # Creating a list of vowels\n",
    "    vowels = \"aeiouAEIOU\"\n",
    "     \n",
    "    # Using list comprehension to count the number of vowels in the string\n",
    "    count = len([char for char in str if char in vowels])\n",
    "     \n",
    "    # Printing the count of vowels in the string\n",
    "    print(\"No. of vowels :\", count)\n",
    " \n",
    "# Driver code \n",
    "str = \"GeeksforGeeks\"\n",
    " \n",
    "# Function Call\n",
    "vowel_count(str)"
   ]
  },
  {
   "cell_type": "code",
   "execution_count": 5,
   "id": "51c4c6b5-47fd-4c0b-9718-5aeda1e7e91d",
   "metadata": {},
   "outputs": [
    {
     "name": "stdout",
     "output_type": "stream",
     "text": [
      "The string is a palindrome.\n"
     ]
    }
   ],
   "source": [
    "# Q3. --> Write a code to check if a given string is a palindrome or not.\n",
    "\n",
    "# Program to check if a string is palindrome or not\n",
    "\n",
    "my_str = 'aIbohPhoBiA'\n",
    "\n",
    "# make it suitable for caseless comparison\n",
    "my_str = my_str.casefold()\n",
    "\n",
    "# reverse the string\n",
    "rev_str = reversed(my_str)\n",
    "\n",
    "# check if the string is equal to its reverse\n",
    "if list(my_str) == list(rev_str):\n",
    "   print(\"The string is a palindrome.\")\n",
    "else:\n",
    "   print(\"The string is not a palindrome.\")\n",
    "\n"
   ]
  },
  {
   "cell_type": "code",
   "execution_count": 6,
   "id": "babec545-78a0-4a8d-b540-9e3b63869305",
   "metadata": {},
   "outputs": [
    {
     "name": "stdout",
     "output_type": "stream",
     "text": [
      "race and care are anagram.\n"
     ]
    }
   ],
   "source": [
    "# Q4. Write a code to check if two given strings are anagrams of each other.\n",
    "\n",
    "str1 = \"Race\"\n",
    "str2 = \"Care\"\n",
    "\n",
    "# convert both the strings into lowercase\n",
    "str1 = str1.lower()\n",
    "str2 = str2.lower()\n",
    "\n",
    "# check if length is same\n",
    "if(len(str1) == len(str2)):\n",
    "\n",
    "    # sort the strings\n",
    "    sorted_str1 = sorted(str1)\n",
    "    sorted_str2 = sorted(str2)\n",
    "\n",
    "    # if sorted char arrays are same\n",
    "    if(sorted_str1 == sorted_str2):\n",
    "        print(str1 + \" and \" + str2 + \" are anagram.\")\n",
    "    else:\n",
    "        print(str1 + \" and \" + str2 + \" are not anagram.\")\n",
    "\n",
    "else:\n",
    "    print(str1 + \" and \" + str2 + \" are not anagram.\")"
   ]
  },
  {
   "cell_type": "code",
   "execution_count": 7,
   "id": "a40699d9-b751-441f-9bbb-67d591fb0489",
   "metadata": {},
   "outputs": [
    {
     "name": "stdin",
     "output_type": "stream",
     "text": [
      "Enter the string:  sourabh\n",
      "Enter the substring:  kumar\n"
     ]
    },
    {
     "name": "stdout",
     "output_type": "stream",
     "text": [
      "The index of the second occurence of the substring:  -1\n"
     ]
    }
   ],
   "source": [
    "# Q5. Write a code to find all occurrences of a given substring within another srteing.\n",
    "\n",
    "def find_string(txt, str1):\n",
    "  return txt.find(str1, txt.find(str1)+1)\n",
    " \n",
    "string = input(\"Enter the string: \")\n",
    "substring = input(\"Enter the substring: \")\n",
    "\n",
    "print(\"The index of the second occurence of the substring: \", find_string(string, substring))\n"
   ]
  },
  {
   "cell_type": "code",
   "execution_count": 8,
   "id": "bea1c26e-cf54-4cd5-bb98-023f2d675d19",
   "metadata": {},
   "outputs": [
    {
     "name": "stdout",
     "output_type": "stream",
     "text": [
      "o 4\n",
      "e 3\n",
      "t 2\n",
      "h 2\n",
      "u 2\n",
      "r 2\n"
     ]
    }
   ],
   "source": [
    "# Q6. Write a code to perform besic string compression using the counts of repeated characters. \n",
    "\n",
    "# Import the 'collections' module to use the 'defaultdict' class.\n",
    "import collections\n",
    "\n",
    "# Define a string 'str1' with a sentence.\n",
    "str1 = 'thequickbrownfoxjumpsoverthelazydog'\n",
    "\n",
    "# Create a defaultdict 'd' with integer values as the default type.\n",
    "d = collections.defaultdict(int)\n",
    "\n",
    "# Iterate through each character in the string 'str1'.\n",
    "# Update the counts of each character in the 'd' dictionary.\n",
    "for c in str1:\n",
    "    d[c] += 1\n",
    "\n",
    "# Iterate through the characters in 'd' in descending order of their counts.\n",
    "for c in sorted(d, key=d.get, reverse=True):\n",
    "    # Check if the character occurs more than once.\n",
    "    if d[c] > 1:\n",
    "        # Print the character and its count.\n",
    "        print('%s %d' % (c, d[c]))\n"
   ]
  },
  {
   "cell_type": "markdown",
   "id": "da8e528e-4bdc-4410-ba82-3519bf04b761",
   "metadata": {},
   "source": [
    "\n",
    "Q4. Write a code to check if two given strings are anagrams of each other.\n",
    "Q5. Write a code to find all occurrences of a given substring within another srteing.\n",
    "\n"
   ]
  },
  {
   "cell_type": "code",
   "execution_count": null,
   "id": "9de4b54c-866b-4397-9277-7bdefd9889db",
   "metadata": {},
   "outputs": [],
   "source": []
  },
  {
   "cell_type": "code",
   "execution_count": null,
   "id": "31dde276-c18d-49d1-a765-5e1728d9c550",
   "metadata": {},
   "outputs": [],
   "source": []
  },
  {
   "cell_type": "code",
   "execution_count": null,
   "id": "dc79a55b-2e6e-411f-b47a-e4204fc8b33d",
   "metadata": {},
   "outputs": [],
   "source": []
  }
 ],
 "metadata": {
  "kernelspec": {
   "display_name": "Python 3 (ipykernel)",
   "language": "python",
   "name": "python3"
  },
  "language_info": {
   "codemirror_mode": {
    "name": "ipython",
    "version": 3
   },
   "file_extension": ".py",
   "mimetype": "text/x-python",
   "name": "python",
   "nbconvert_exporter": "python",
   "pygments_lexer": "ipython3",
   "version": "3.10.8"
  }
 },
 "nbformat": 4,
 "nbformat_minor": 5
}
