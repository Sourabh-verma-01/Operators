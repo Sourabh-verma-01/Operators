{
 "cells": [
  {
   "cell_type": "markdown",
   "id": "a1d0eb2f-0cd8-4479-9bbc-9330ede91a63",
   "metadata": {},
   "source": [
    "# Python Baiscs Assignment_01_Sourabh "
   ]
  },
  {
   "cell_type": "markdown",
   "id": "2b3d2be9-a54f-4423-be53-4a2dcde0d7ca",
   "metadata": {},
   "source": [
    "1. Explain the key features of python that make it a popular choice for programing.\n",
    "\n",
    "2. Describe the role of predefine keywords in python and provide examples of how they are used in a program.\n",
    "\n",
    "3. Compare and contrast mutable and immutable object in python with examples.\n",
    "\n",
    "4. Discuss the diffrent type of operators in python and provide examples of how they are used.\n",
    "\n",
    "5. Explain the concept of type casting in python with examples.\n",
    "\n",
    "6. how do conditional statements work in python? illustrate with examples.\n",
    "\n",
    "7. Describe the different types of loops in python and their use cases with examples. "
   ]
  },
  {
   "cell_type": "markdown",
   "id": "ceac0b88-539e-453d-885a-8993dd35c2b8",
   "metadata": {},
   "source": [
    "# Q.1. Explain the key features of python that make it a popular choice for programing.\n",
    "\n",
    "# Ans -->>\n",
    "'''As we konw Python is the most popular and widely used computer programming language, its supports almost evry operating systems like - windows, mac, Linux.\n",
    "now days python is widely used for ML , Data science.'''\n",
    "\n",
    "#key featursof python -:\n",
    "\n",
    "1.  Python has comprehensve standerd library.\n",
    "2.  it is an object orianted programing language.\n",
    "3.  Line-by-line execution of source code, converted into byte code; thus,compiling the code is not necessary, making it easy     to debug if required.\n",
    "4.  there are lots of GUI (Graphical user interface) frameworks are available in python.\n",
    "\n",
    "## insights -: python is general-purpose, high-level programming language. python is also easy to learn its syntex is simple and similar to english, its easy to read and understand.'''\n",
    "\n"
   ]
  },
  {
   "cell_type": "code",
   "execution_count": null,
   "id": "75a16dbf-30b9-4f73-93f0-05f382471f15",
   "metadata": {},
   "outputs": [
    {
     "name": "stdout",
     "output_type": "stream",
     "text": [
      "Sourabh\n"
     ]
    }
   ],
   "source": [
    "# Q2. Describe the role of predefine keywords in python and provide examples of how they are used in a program.\n",
    "\n",
    "# Ans -->\n",
    " \n",
    "''' predefine key words basically a resurved words in python for working programs that have a specific meaning, we cant not use predefine keywords any whaere else in python. '''\n",
    "   \n",
    " # Exampale of predefine keywords below -->\n",
    "    \n",
    "# if    \n",
    "a = 6\n",
    "if a >=6:\n",
    "    print (\"Sourabh\")\n",
    "\n",
    "#input\n",
    "b = int(input())\n",
    "c = int(input())\n",
    "print(b+c)\n",
    " \n",
    "\n",
    "## insights --> There are 35 keywords in Python, which is help to run program in a easy way.\n",
    "\n",
    "\n",
    "\n"
   ]
  },
  {
   "cell_type": "code",
   "execution_count": 11,
   "id": "e34b1262-ab1c-48ff-9526-037cd6d0ab87",
   "metadata": {},
   "outputs": [
    {
     "name": "stdout",
     "output_type": "stream",
     "text": [
      "[6, 'Shyam', 9, 4, 5, 'Mohan']\n"
     ]
    },
    {
     "ename": "TypeError",
     "evalue": "'tuple' object does not support item assignment",
     "output_type": "error",
     "traceback": [
      "\u001b[0;31m---------------------------------------------------------------------------\u001b[0m",
      "\u001b[0;31mTypeError\u001b[0m                                 Traceback (most recent call last)",
      "Cell \u001b[0;32mIn[11], line 19\u001b[0m\n\u001b[1;32m     16\u001b[0m \u001b[38;5;66;03m# Example of immuteable objects -->\u001b[39;00m\n\u001b[1;32m     18\u001b[0m tuple1 \u001b[38;5;241m=\u001b[39m (\u001b[38;5;241m0\u001b[39m, \u001b[38;5;241m1\u001b[39m, \u001b[38;5;241m2\u001b[39m, \u001b[38;5;241m3\u001b[39m) \n\u001b[0;32m---> 19\u001b[0m \u001b[43mtuple1\u001b[49m\u001b[43m[\u001b[49m\u001b[38;5;241;43m0\u001b[39;49m\u001b[43m]\u001b[49m \u001b[38;5;241m=\u001b[39m \u001b[38;5;241m4\u001b[39m\n\u001b[1;32m     20\u001b[0m \u001b[38;5;66;03m#print(tuple1) \u001b[39;00m\n\u001b[1;32m     21\u001b[0m \u001b[38;5;28mtype\u001b[39m(tuplel) \n",
      "\u001b[0;31mTypeError\u001b[0m: 'tuple' object does not support item assignment"
     ]
    }
   ],
   "source": [
    "# Q3. Compare and contrast mutable and immutable object in python with examples.\n",
    "\n",
    "# ans -->\n",
    "\n",
    "'''objects which are editable or changeble after creation called mutable, whther immutable objects are not commpatible any changeable condition.\n",
    "   List, Dictionary, and Sets are examples of mutable data type where sets and tuples are immutable data types in Python.'''\n",
    "\n",
    "\n",
    "# Example of muteable objects -->\n",
    "\n",
    "x = [6,\"Sk\",9,4,5,\"Mohan\"]\n",
    "x[1]=\"Shyam\"\n",
    "print(x) \n",
    "type(x)\n",
    "\n",
    "# Example of immuteable objects -->\n",
    "\n",
    "tuple1 = (0, 1, 2, 3) \n",
    "tuple1[0] = 4\n",
    "print(tuple1) \n",
    "\n",
    "#insights -->\n",
    "\n",
    "''' This data sets are help full to execute the program in diffrent conditions '''\n"
   ]
  },
  {
   "cell_type": "code",
   "execution_count": 22,
   "id": "92a580d1-85d8-494a-a25f-fb5045b76caf",
   "metadata": {},
   "outputs": [
    {
     "name": "stdout",
     "output_type": "stream",
     "text": [
      "a + b :  31\n",
      "a - b : 11\n",
      "a * b :  210\n",
      "a / b :  2.1\n",
      "a % b :  1\n",
      "a ** b :  16679880978201\n",
      "a // b :  2\n",
      " True\n",
      " False\n",
      " True\n",
      " True\n",
      "1 True\n",
      "2 False\n",
      "3 True\n",
      "4 False\n",
      "Logical OR -->  True\n",
      "Logical OR --> True\n",
      "Logical OR --> False\n",
      "Logical OR --> True\n",
      "Logical NOT -->> False\n",
      "Logical NOT -->> True\n",
      "  Assignment operators-->> 31\n",
      "  Assignment operators-->> 11\n",
      "  Assignment operators-->> 2.1\n",
      " Membership operators  False\n",
      " Membership operators  True\n",
      " Membership operators  True\n",
      " Membership operators  True\n",
      " Membership operators  False\n",
      " Membership operators  False\n",
      "False\n",
      "Bitwise AND[&] --> 2\n",
      "Bitwise OR [|] --> 3\n",
      "Bitwise NOT[~]--> -101\n",
      "XOR [^]--> 4\n",
      "bin--> 0b100011\n"
     ]
    }
   ],
   "source": [
    "# Q 4. Discuss the diffrent type of operators in python and provide examples of how they are used.\n",
    "\n",
    "# Ans --> \n",
    "#There are 7 types of operators in python, this operators can help to perform various operations.\n",
    "\n",
    "#(1) \n",
    "[\"+\",\"-\",\"*\",\"/\",\"%\",\"**\",\"//\"]\n",
    "#(2) comparison operators [\"==\",\"!=\",\">=\",\"<=\"]\n",
    "#(3) Logical operators [\"And\",\"or\",\"not\"]\n",
    "#(4) Assignment operators [\"=\",\"+=\",\"-=\",\"/=\"]\n",
    "#(5) Membership operators [\"in\",\"not in\"]\n",
    "#(6) Identify operators [\"is\"]\n",
    "#(7) Bitwise operators [\"&\",\"|\",\"~\",\"^\"]\n",
    "#Examples of Arthimatic operator\n",
    "\n",
    "\n",
    "a = 21\n",
    "b = 10\n",
    "list = [24,65,56,87,36]\n",
    "\n",
    "j=5\n",
    "\n",
    "\n",
    "#Arthimatic operators \n",
    "# Addition\n",
    "print (\"a + b : \", a + b)\n",
    "# Subtraction\n",
    "print (\"a - b :\", a - b)\n",
    "# Multiplication\n",
    "print (\"a * b : \", a * b)\n",
    "# Division\n",
    "print (\"a / b : \", a / b)\n",
    "# Modulus\n",
    "print (\"a % b : \", a % b)\n",
    "# Exponent\n",
    "print (\"a ** b : \", a ** b)\n",
    "# Floor Division\n",
    "print (\"a // b : \", a // b)\n",
    "\n",
    "#comparison operators [\"==\",\"!=\",\">=\",\"<=\"]\n",
    "print(\"\", a==a)\n",
    "print(\"\", a!=a)\n",
    "print(\"\", a>=a)\n",
    "print(\"\", a<=a)\n",
    "\n",
    "#logical operators [\"And\",\"or\",\"not\"]\n",
    "print(\"1\", True and True)\n",
    "print(\"2\", True and False)\n",
    "print(\"3\", False or True)\n",
    "print(\"4\", False and False)\n",
    "\n",
    "#Logical OR\n",
    "## Logical OR -->>  This returns True if one of  x or y are true.\n",
    "\n",
    "print (\"Logical OR --> \",True or False)\n",
    "print (\"Logical OR -->\",False or True)\n",
    "print (\"Logical OR -->\",False or False)\n",
    "print (\"Logical OR -->\",True or True)\n",
    "\n",
    "#Logical NOT (not)\n",
    "print (\"Logical NOT -->>\",not True)\n",
    "print (\"Logical NOT -->>\",not False)\n",
    "\n",
    "\n",
    "\n",
    "#(4) Assignment operators [\"=\",\"+=\",\"-=\",\"/=\"]\n",
    "print (\"  Assignment operators-->>\",a+b)\n",
    "#print (\"  Assignment operators-->>\",b=b)\n",
    "print (\"  Assignment operators-->>\",a-b)\n",
    "print (\"  Assignment operators-->>\",a/b)\n",
    "\n",
    "#(5) Membership operators [\"in\",\"not in\"]\n",
    "\n",
    "print(\" Membership operators \",20 in list)\n",
    "print(\" Membership operators \",65 in list)\n",
    "print(\" Membership operators \",20 not in list)\n",
    " \n",
    "str = \"Pack my box with five dozen liquor jugs\"\n",
    "x = \"five\"\n",
    " \n",
    "print(\" Membership operators \",x in str)\n",
    "print(\" Membership operators \",\"your\" in str)\n",
    "print(\" Membership operators \",x not in str)\n",
    "\n",
    "\n",
    "#(6) Identify operators [\"is\"]\n",
    "j=5\n",
    "h=j\n",
    "j is h\n",
    "\n",
    "print (j is not h)\n",
    "\n",
    "\n",
    "#(7) Bitwise operators [\"&\",\"|\",\"~\",\"^\"]\n",
    "\n",
    "\n",
    "print (\"Bitwise AND[&] -->\",2 & 3)\n",
    "print(\"Bitwise OR [|] -->\", 2|3)\n",
    "print(\"Bitwise NOT[~]-->\",~100)\n",
    "print(\"XOR [^]-->\",2^6)\n",
    "print(\"bin-->\",bin(35))\n"
   ]
  },
  {
   "cell_type": "code",
   "execution_count": 7,
   "id": "4a57e793-beda-4577-b22e-208b1d3f89c4",
   "metadata": {},
   "outputs": [
    {
     "data": {
      "text/plain": [
       "str"
      ]
     },
     "execution_count": 7,
     "metadata": {},
     "output_type": "execute_result"
    }
   ],
   "source": [
    "# 5Q Explain the concept of type casting in Python with examples\n",
    "\n",
    "#Ans --> Typecasting is the process of converting the value of a single data type into another data type, such as an integer [int], float, or double.\n",
    "\n",
    "#Example-->\n",
    "\n",
    "a=5\n",
    "type(str(a))\n"
   ]
  },
  {
   "cell_type": "code",
   "execution_count": 4,
   "id": "0850d44b-3fbf-44db-9db8-123fcfd68b4e",
   "metadata": {},
   "outputs": [
    {
     "data": {
      "text/plain": [
       "5.0"
      ]
     },
     "execution_count": 4,
     "metadata": {},
     "output_type": "execute_result"
    }
   ],
   "source": [
    "float(a)"
   ]
  },
  {
   "cell_type": "code",
   "execution_count": 5,
   "id": "928a40c3-2ce5-4d6b-9d94-c01c100d5b38",
   "metadata": {},
   "outputs": [
    {
     "data": {
      "text/plain": [
       "9"
      ]
     },
     "execution_count": 5,
     "metadata": {},
     "output_type": "execute_result"
    }
   ],
   "source": [
    "b=\"4\"\n",
    "a+int(b)"
   ]
  },
  {
   "cell_type": "code",
   "execution_count": 11,
   "id": "973b612f-e921-4b6b-90d2-5a2f4b6e9517",
   "metadata": {},
   "outputs": [
    {
     "name": "stdout",
     "output_type": "stream",
     "text": [
      "I will play cricket\n",
      "grade B\n",
      "Grade A\n"
     ]
    }
   ],
   "source": [
    "# 6Q How do conditional statements work in Python? Illustrate with examples\n",
    "#(Ans)= Conditional statement:Conditional statement is that type of statement which help you to code decision on the basis of some precondition.\n",
    "#conditional statement are of three type\n",
    "#(1)if\n",
    "#(2)if-else\n",
    "#(3)if-elif-else\n",
    "#(4)nested if-else\n",
    "\n",
    "#Example of \"if \" statement\n",
    "weather=\"sunny\"\n",
    "if weather ==\"sunny\":\n",
    "    print(\"I will play cricket\")\n",
    "    \n",
    "#Example of \"else statement\"\n",
    "grade=90\n",
    "if grade>95:\n",
    "    print(\"grade A\")\n",
    "else:\n",
    "    print(\"grade B\")\n",
    "    \n",
    "#Example of \"if-elif-else\" Statement\n",
    "number=90\n",
    "if number>85:\n",
    "    print(\"Grade A\")\n",
    "elif number> 85:\n",
    "    print(\"Grade B\")\n",
    "else:\n",
    "    print(\"Grade c\")"
   ]
  },
  {
   "cell_type": "code",
   "execution_count": 16,
   "id": "23ab0483-d285-4461-bdc2-55ac18d01f0e",
   "metadata": {},
   "outputs": [
    {
     "name": "stdout",
     "output_type": "stream",
     "text": [
      "1\n",
      "2\n",
      "3\n",
      "4\n",
      "5\n",
      "6\n",
      "p\n",
      "w\n",
      "s\n",
      "k\n",
      "i\n",
      "l\n",
      "l\n",
      "s\n"
     ]
    }
   ],
   "source": [
    "#7Q  Describe the different types of loops in Python and their use cases with examples.\n",
    "\n",
    "# Ans--> Loops:Loops statement allow you to execute block of code repeatedly.\n",
    "#Loops are of two type -->(1) While loop (2) For loop\n",
    "# while loop= while loops allow you to execute a block of code repeatedly untill the condition is get false.\n",
    "\n",
    "#Example of whole loop-->\n",
    "\n",
    "n=7\n",
    "i=1\n",
    "while i<n:\n",
    "    print(i)\n",
    "    i=i+1\n",
    "\n",
    "\n",
    "#For loops=For loops is that type of statement which execute the code of block repeatedly sequence wise.\n",
    "#Example of for loops are as follow\n",
    "a=\"pwskills\"\n",
    "for i in a:\n",
    "    print(i)"
   ]
  },
  {
   "cell_type": "markdown",
   "id": "db497628-7a47-4def-b48f-4fbd09dddb5d",
   "metadata": {},
   "source": [
    "   Thank you\n",
    "   "
   ]
  },
  {
   "cell_type": "code",
   "execution_count": null,
   "id": "f90a8460-3b83-417d-aede-4e0cb29b1522",
   "metadata": {},
   "outputs": [],
   "source": []
  }
 ],
 "metadata": {
  "kernelspec": {
   "display_name": "Python 3 (ipykernel)",
   "language": "python",
   "name": "python3"
  },
  "language_info": {
   "codemirror_mode": {
    "name": "ipython",
    "version": 3
   },
   "file_extension": ".py",
   "mimetype": "text/x-python",
   "name": "python",
   "nbconvert_exporter": "python",
   "pygments_lexer": "ipython3",
   "version": "3.10.8"
  }
 },
 "nbformat": 4,
 "nbformat_minor": 5
}
