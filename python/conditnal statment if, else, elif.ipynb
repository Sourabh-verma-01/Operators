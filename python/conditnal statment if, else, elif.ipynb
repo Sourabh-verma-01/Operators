{
 "cells": [
  {
   "cell_type": "markdown",
   "id": "e1087645-d142-47cc-9c5c-a096b8b01a16",
   "metadata": {},
   "source": [
    "### Python supports the usual logical conditions from mathematics:\n",
    "\n",
    "* Equals: a == b\n",
    "* Not Equals: a != b\n",
    "* Less than: a < b\n",
    "* Less than or equal to: a <= b\n",
    "* Greater than: a > b\n",
    "* Greater than or equal to: a >= b"
   ]
  },
  {
   "cell_type": "markdown",
   "id": "9cb245a2-21c3-4271-985f-e46dcdbc3195",
   "metadata": {},
   "source": [
    "## Conditnal statment -->>\n",
    "* if\n",
    "* else\n",
    "* elif"
   ]
  },
  {
   "cell_type": "markdown",
   "id": "47973473-775f-4e7b-afe0-73e30a62dc7b",
   "metadata": {},
   "source": [
    "# if"
   ]
  },
  {
   "cell_type": "code",
   "execution_count": 52,
   "id": "34725a76-f597-4693-9d4e-6648f99d6c6c",
   "metadata": {},
   "outputs": [
    {
     "name": "stdout",
     "output_type": "stream",
     "text": [
      "a grater then b\n"
     ]
    }
   ],
   "source": [
    "#if statement -->>\n",
    "\n",
    "a = 40\n",
    "b = 30\n",
    "if a > b:\n",
    "    print (\"a grater then b\")"
   ]
  },
  {
   "cell_type": "code",
   "execution_count": 21,
   "id": "898cbcac-8657-4b9e-9454-7d43977d6da2",
   "metadata": {},
   "outputs": [
    {
     "name": "stdout",
     "output_type": "stream",
     "text": [
      "sum of a+b is 4\n"
     ]
    }
   ],
   "source": [
    "a = 2\n",
    "b = 2 \n",
    "\n",
    "if a == b :\n",
    "    print (\"sum of a+b is\", 4 )"
   ]
  },
  {
   "cell_type": "code",
   "execution_count": 51,
   "id": "5d760c51-d3bc-491a-8cd5-b006241a80dc",
   "metadata": {},
   "outputs": [
    {
     "name": "stdin",
     "output_type": "stream",
     "text": [
      " 2\n"
     ]
    }
   ],
   "source": [
    "# using if with input function.\n",
    "\n",
    "a = int(input())\n",
    "b = 3 \n",
    "if a == b :\n",
    "    print (a+b)"
   ]
  },
  {
   "cell_type": "code",
   "execution_count": 54,
   "id": "3737ff3d-9385-49b5-a453-b482132037f6",
   "metadata": {},
   "outputs": [
    {
     "name": "stdin",
     "output_type": "stream",
     "text": [
      " 7\n"
     ]
    },
    {
     "name": "stdout",
     "output_type": "stream",
     "text": [
      "total is 9\n"
     ]
    }
   ],
   "source": [
    "# using if with input function.\n",
    "a = int(input())\n",
    "b = 2\n",
    "c = a+b\n",
    "\n",
    "print (\"total is\", c)"
   ]
  },
  {
   "cell_type": "code",
   "execution_count": 38,
   "id": "42b417fa-35ce-4e22-b600-01dd549ad347",
   "metadata": {},
   "outputs": [
    {
     "data": {
      "text/plain": [
       "int"
      ]
     },
     "execution_count": 38,
     "metadata": {},
     "output_type": "execute_result"
    }
   ],
   "source": [
    "type(a)\n",
    "\n"
   ]
  },
  {
   "cell_type": "code",
   "execution_count": 61,
   "id": "f18fbee2-50f3-45fe-864f-38913b14d120",
   "metadata": {},
   "outputs": [
    {
     "name": "stdout",
     "output_type": "stream",
     "text": [
      "a is biger then b -> 5\n"
     ]
    }
   ],
   "source": [
    "a = 3\n",
    "b = 2\n",
    "\n",
    "if a>b:\n",
    "    print(\"a is biger then b ->\" ,  a+b)"
   ]
  },
  {
   "cell_type": "code",
   "execution_count": 66,
   "id": "cc991e16-3bc4-4f14-be1b-94fb0739c9aa",
   "metadata": {},
   "outputs": [
    {
     "name": "stdout",
     "output_type": "stream",
     "text": [
      "a is looser 6\n"
     ]
    }
   ],
   "source": [
    "a = 6\n",
    "b = 9\n",
    "\n",
    "if a<b :\n",
    "    print (\"a is looser\", a )"
   ]
  },
  {
   "cell_type": "code",
   "execution_count": 78,
   "id": "b7a63e91-da03-474a-90ce-d99776f81587",
   "metadata": {},
   "outputs": [
    {
     "name": "stdout",
     "output_type": "stream",
     "text": [
      "yeep...!! 10\n"
     ]
    }
   ],
   "source": [
    "a = 10\n",
    "b = 9\n",
    "\n",
    "if a>=b :\n",
    "    print (\"yeep...!!\", a,)"
   ]
  },
  {
   "cell_type": "code",
   "execution_count": 82,
   "id": "771c93bb-4fbc-415b-9ef4-dca577b463ea",
   "metadata": {},
   "outputs": [
    {
     "name": "stdout",
     "output_type": "stream",
     "text": [
      "no...!! 10\n"
     ]
    }
   ],
   "source": [
    "a = 10\n",
    "b = 9\n",
    "\n",
    "if a!=b :\n",
    "    print (\"no...!!\", a,)"
   ]
  },
  {
   "cell_type": "code",
   "execution_count": 61,
   "id": "1dc2ad80-b1de-4225-befd-2ebb5ba476a1",
   "metadata": {},
   "outputs": [
    {
     "name": "stdin",
     "output_type": "stream",
     "text": [
      " ank\n"
     ]
    },
    {
     "name": "stdout",
     "output_type": "stream",
     "text": [
      "hello Ankit\n"
     ]
    }
   ],
   "source": [
    "name = input()\n",
    "if len(name) >= 3 :\n",
    "    print(\"hello Ankit\")    "
   ]
  },
  {
   "cell_type": "code",
   "execution_count": 64,
   "id": "0fca41cb-ee8c-4d43-ba01-fada891b0943",
   "metadata": {},
   "outputs": [
    {
     "name": "stdout",
     "output_type": "stream",
     "text": [
      "Please Enter your name:\n"
     ]
    },
    {
     "name": "stdin",
     "output_type": "stream",
     "text": [
      " qwe\n"
     ]
    },
    {
     "name": "stdout",
     "output_type": "stream",
     "text": [
      "hello Ankit\n"
     ]
    }
   ],
   "source": [
    "print(\"Please Enter your name:\")\n",
    "name = input()\n",
    "if len(name) >= 3 :\n",
    "    print(\"hello Ankit\")    \n"
   ]
  },
  {
   "cell_type": "code",
   "execution_count": null,
   "id": "95729e21-cb6d-4815-a6fc-3f123af1e5d5",
   "metadata": {},
   "outputs": [],
   "source": []
  },
  {
   "cell_type": "markdown",
   "id": "bb6334cf-8376-44f9-80c9-3b3730053929",
   "metadata": {},
   "source": [
    "# else"
   ]
  },
  {
   "cell_type": "code",
   "execution_count": 60,
   "id": "3b9b5e17-9912-4ac1-a456-3a42103fea48",
   "metadata": {},
   "outputs": [
    {
     "name": "stdin",
     "output_type": "stream",
     "text": [
      " sa\n"
     ]
    },
    {
     "name": "stdout",
     "output_type": "stream",
     "text": [
      "Ankit gadha\n"
     ]
    }
   ],
   "source": [
    "name = input()\n",
    "if len(name) >= 3 :\n",
    "    print(\"hello Ankit\")\n",
    "else:\n",
    "    print (\"Ankit gadha\")\n",
    " "
   ]
  },
  {
   "cell_type": "code",
   "execution_count": 4,
   "id": "48a9b56a-e705-4365-9868-99ab74c98e12",
   "metadata": {},
   "outputs": [
    {
     "name": "stdin",
     "output_type": "stream",
     "text": [
      "Enter yor age:- 85\n"
     ]
    },
    {
     "name": "stdout",
     "output_type": "stream",
     "text": [
      "you are eligible for vote\n"
     ]
    }
   ],
   "source": [
    "#Write a program for voting elegibilty\n",
    "\n",
    "#print(\"inter your age:\")\n",
    "age = int(input(\"Enter yor age:-\"))\n",
    "if age <= 18 :\n",
    "    print(\"you are not eligible for vote\")\n",
    "else:\n",
    "    print(\"you are eligible for vote\")"
   ]
  },
  {
   "cell_type": "code",
   "execution_count": 9,
   "id": "4964ec93-75da-45c3-851f-d46014422a9a",
   "metadata": {},
   "outputs": [
    {
     "name": "stdin",
     "output_type": "stream",
     "text": [
      "enter the value -  3\n"
     ]
    },
    {
     "name": "stdout",
     "output_type": "stream",
     "text": [
      "value is odd\n"
     ]
    }
   ],
   "source": [
    "# find even or odd numbers \n",
    "\n",
    "#2 % 3\n",
    "\n",
    "value = int(input(\"enter the value - \"))\n",
    "if value % 2 ==0 :\n",
    "    print(\"value is even\")\n",
    "else:\n",
    "    print (\"value is odd\")\n",
    "    \n",
    "\n"
   ]
  },
  {
   "cell_type": "markdown",
   "id": "423e8453-cf77-429c-94c0-68ea94401ce0",
   "metadata": {},
   "source": [
    "# elif\n"
   ]
  },
  {
   "cell_type": "code",
   "execution_count": 27,
   "id": "9f00a20c-18e3-45f6-ac43-7883953c60ad",
   "metadata": {},
   "outputs": [
    {
     "name": "stdin",
     "output_type": "stream",
     "text": [
      "enter value- 9\n"
     ]
    },
    {
     "name": "stdout",
     "output_type": "stream",
     "text": [
      "value is smaller then a\n"
     ]
    }
   ],
   "source": [
    "# elif \n",
    "\n",
    "a = int(input(\"enter value-\"))\n",
    "if a > 100:\n",
    "    print (\"value is greter then a -- \",(a))\n",
    "elif a >= 100:\n",
    "    print (\"value is same as a\")\n",
    "elif a < 10 :\n",
    "    print(\"value is smaller then a\")\n",
    "else:\n",
    "    print(\"value is out of Score\")"
   ]
  },
  {
   "cell_type": "code",
   "execution_count": 49,
   "id": "78f64494-aa54-4260-9fd4-f44ae062baea",
   "metadata": {},
   "outputs": [
    {
     "name": "stdin",
     "output_type": "stream",
     "text": [
      "enter your expected salry 13\n"
     ]
    },
    {
     "name": "stdout",
     "output_type": "stream",
     "text": [
      "job is right\n"
     ]
    }
   ],
   "source": [
    "job = int(input(\"enter your expected salry\"))\n",
    "if job >=30:\n",
    "    print(\"job is ok\")\n",
    "    \n",
    "elif  12<=job<15:\n",
    "    print (\"job is right\")\n",
    "    \n",
    "elif 10<=job<15:\n",
    "    print(\"job is not good\")\n",
    "\n",
    "else:\n",
    "    print(\"i will not exept the offer\")"
   ]
  },
  {
   "cell_type": "markdown",
   "id": "dea69e2e-fdd8-4f84-a870-c247e79cca97",
   "metadata": {},
   "source": [
    "# nested if ,else"
   ]
  },
  {
   "cell_type": "code",
   "execution_count": 16,
   "id": "722be856-d3d1-4d64-bf4a-2cbba8ed8666",
   "metadata": {},
   "outputs": [
    {
     "name": "stdin",
     "output_type": "stream",
     "text": [
      "CC 9\n"
     ]
    },
    {
     "name": "stdout",
     "output_type": "stream",
     "text": [
      "i love cycling\n"
     ]
    }
   ],
   "source": [
    "# Nested if , else\n",
    "\n",
    "Ride = True\n",
    "bike = int(input(\"CC\"))\n",
    "\n",
    "if Ride:\n",
    "    if bike >= 100:\n",
    "        if bike <=10:\n",
    "            print (\"i hate to drive 100 cc bike\")\n",
    "        if bike >= 250:\n",
    "            print(\"this is a good bike \")\n",
    "        if bike > 600:\n",
    "            if bike < 1000:\n",
    "                print (\"this is too risky bike\")\n",
    "    else:\n",
    "        print(\"i love cycling\")\n",
    "                \n",
    "        "
   ]
  },
  {
   "cell_type": "code",
   "execution_count": 12,
   "id": "6d3a91bc-f50d-46cb-8c79-3aa44d10edc0",
   "metadata": {},
   "outputs": [
    {
     "name": "stdin",
     "output_type": "stream",
     "text": [
      "Please enterd your name sd\n",
      "Please Enter your e-mail id sd@\n",
      "enter your password asa\n"
     ]
    },
    {
     "name": "stdout",
     "output_type": "stream",
     "text": [
      "login\n"
     ]
    }
   ],
   "source": [
    "# login page \n",
    "\n",
    "name = input(\"Please enterd your name\")\n",
    "email_id = input(\"Please Enter your e-mail id\")\n",
    "password = input(\"enter your password\")\n",
    "\n",
    "if name == \"\":\n",
    "    print(\"enter a valid name\")\n",
    "else:\n",
    "    if \"@\" not in email_id:\n",
    "        print(\"enter a valid email\")\n",
    "    else:\n",
    "        if len(password)< 0:\n",
    "            print(\"enter a valid password\")\n",
    "        else:\n",
    "            print(\"login\")\n",
    "        "
   ]
  },
  {
   "cell_type": "code",
   "execution_count": 22,
   "id": "01c74ad8-321d-4190-9b44-840075dd7415",
   "metadata": {},
   "outputs": [
    {
     "ename": "SyntaxError",
     "evalue": "invalid syntax (3519324547.py, line 15)",
     "output_type": "error",
     "traceback": [
      "\u001b[0;36m  Cell \u001b[0;32mIn[22], line 15\u001b[0;36m\u001b[0m\n\u001b[0;31m    else:\u001b[0m\n\u001b[0m    ^\u001b[0m\n\u001b[0;31mSyntaxError\u001b[0m\u001b[0;31m:\u001b[0m invalid syntax\n"
     ]
    }
   ],
   "source": [
    "#nested if else (FROM desin)\n",
    "\n",
    "name = input(\"enter your name\")\n",
    "email = input(\"enter mail id\")\n",
    "pasword = input (\"enter password\")\n",
    "\n",
    "if name == (\"\"):\n",
    "    print(\"enter you name\")\n",
    "else:\n",
    "    if \"@\" not in email:\n",
    "        print (\"enter valid mail id\")\n",
    "    else:\n",
    "        if len()>0:\n",
    "            print(\"enter a valid password\")\n",
    "            else:\n",
    "                print(\"login\")"
   ]
  },
  {
   "cell_type": "code",
   "execution_count": null,
   "id": "ee2c8baf-42fb-4f85-8c15-3635ab0f1a22",
   "metadata": {},
   "outputs": [],
   "source": []
  },
  {
   "cell_type": "code",
   "execution_count": null,
   "id": "65890ed2-4558-4863-a3dd-80768ec8e0dc",
   "metadata": {},
   "outputs": [],
   "source": []
  },
  {
   "cell_type": "code",
   "execution_count": null,
   "id": "f96c0a37-288e-4749-a974-061a681d513b",
   "metadata": {},
   "outputs": [],
   "source": []
  },
  {
   "cell_type": "code",
   "execution_count": null,
   "id": "2ab62b20-b9f3-4150-838c-1d7b13a7e12f",
   "metadata": {},
   "outputs": [],
   "source": []
  },
  {
   "cell_type": "code",
   "execution_count": null,
   "id": "26c351a3-01c7-448c-8c95-593cf11c83b1",
   "metadata": {},
   "outputs": [],
   "source": []
  },
  {
   "cell_type": "code",
   "execution_count": null,
   "id": "43cd82a8-4e85-452a-a525-ead801198574",
   "metadata": {},
   "outputs": [],
   "source": []
  },
  {
   "cell_type": "code",
   "execution_count": null,
   "id": "c33d4d68-239a-4dee-be0c-9e1d7c7b301c",
   "metadata": {},
   "outputs": [],
   "source": []
  }
 ],
 "metadata": {
  "kernelspec": {
   "display_name": "Python 3 (ipykernel)",
   "language": "python",
   "name": "python3"
  },
  "language_info": {
   "codemirror_mode": {
    "name": "ipython",
    "version": 3
   },
   "file_extension": ".py",
   "mimetype": "text/x-python",
   "name": "python",
   "nbconvert_exporter": "python",
   "pygments_lexer": "ipython3",
   "version": "3.10.8"
  }
 },
 "nbformat": 4,
 "nbformat_minor": 5
}
