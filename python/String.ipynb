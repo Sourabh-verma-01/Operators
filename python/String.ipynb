{
 "cells": [
  {
   "cell_type": "markdown",
   "id": "5517e820-fabb-4220-b01e-2fbf3149e9f0",
   "metadata": {},
   "source": [
    "# string \n",
    "# string Methords"
   ]
  },
  {
   "cell_type": "code",
   "execution_count": 6,
   "id": "78f07809-3303-4de3-a38c-c11269ce936d",
   "metadata": {},
   "outputs": [
    {
     "name": "stdout",
     "output_type": "stream",
     "text": [
      "True\n"
     ]
    }
   ],
   "source": [
    "#string\n",
    "#startswith - retuen true if string starts with the specified prefix otherwise false\n",
    "\n",
    "a = \"Sourabh verma\"\n",
    "print(a.startswith(\"So\"))"
   ]
  },
  {
   "cell_type": "code",
   "execution_count": 7,
   "id": "684ae7c4-b9cf-440c-a5a6-a956d01ba7b8",
   "metadata": {},
   "outputs": [
    {
     "name": "stdout",
     "output_type": "stream",
     "text": [
      "False\n"
     ]
    }
   ],
   "source": [
    "a = \"Sourabh verma\"\n",
    "print(a.startswith(\"verma\"))"
   ]
  },
  {
   "cell_type": "code",
   "execution_count": 8,
   "id": "b9c13364-0d07-4438-9673-4236b3270f4a",
   "metadata": {},
   "outputs": [
    {
     "name": "stdout",
     "output_type": "stream",
     "text": [
      "False\n"
     ]
    }
   ],
   "source": [
    "#endswith\n",
    "\n",
    "a = \"Sourabh verma\"\n",
    "print(a.endswith(\"So\"))"
   ]
  },
  {
   "cell_type": "code",
   "execution_count": 11,
   "id": "8488c865-a7ad-4073-a824-9ec86e764ba7",
   "metadata": {},
   "outputs": [
    {
     "name": "stdout",
     "output_type": "stream",
     "text": [
      "True\n"
     ]
    }
   ],
   "source": [
    "#endswith with true result\n",
    "\n",
    "a = \"Sourabh verma\"\n",
    "print(a.endswith(\"rma\"))"
   ]
  },
  {
   "cell_type": "markdown",
   "id": "55a64246-a9ca-4b4a-892b-a6c4b2d646d0",
   "metadata": {},
   "source": [
    "# type of string\n",
    "\n",
    "# *isupper \n",
    "# *islower"
   ]
  },
  {
   "cell_type": "code",
   "execution_count": 20,
   "id": "c9286d53-efcf-4dc6-8d49-3f82e1aac6cf",
   "metadata": {},
   "outputs": [
    {
     "name": "stdout",
     "output_type": "stream",
     "text": [
      "False\n",
      "False\n",
      "True\n",
      "False\n",
      "False\n",
      "True\n",
      "False\n",
      "False\n",
      "False\n",
      "True\n"
     ]
    }
   ],
   "source": [
    "#isupper - if all string is on upper case it will return true other wise false \n",
    "\n",
    "a1 =\"abnc\"\n",
    "a2 = \"123\"\n",
    "a3 = \"ABCD\"\n",
    "a4 = \"asDF\"\n",
    "a5 = \"1ws34edrf5\"\n",
    "\n",
    "print(a1.isupper())\n",
    "print(a2.isupper())\n",
    "print(a3.isupper())\n",
    "print(a4.isupper())\n",
    "print(a5.isupper())\n",
    "\n",
    "\n"
   ]
  },
  {
   "cell_type": "code",
   "execution_count": 22,
   "id": "1251479a-c7b7-47b5-9190-dd2a5742028f",
   "metadata": {},
   "outputs": [
    {
     "name": "stdout",
     "output_type": "stream",
     "text": [
      "True\n",
      "False\n",
      "False\n",
      "False\n",
      "False\n"
     ]
    }
   ],
   "source": [
    "#islower - if all string is on lower case it will return true other wise false\n",
    "\n",
    "a1 =\"abnc\"\n",
    "a2 = \"123\"\n",
    "a3 = \"ABCD\"\n",
    "a4 = \"asDF\"\n",
    "a5 = \"1ws34eDrf5\"\n",
    "\n",
    "print(a1.islower())\n",
    "print(a2.islower())\n",
    "print(a3.islower())\n",
    "print(a4.islower())\n",
    "print(a5.islower())"
   ]
  },
  {
   "cell_type": "code",
   "execution_count": null,
   "id": "1d51d6ef-7299-47d0-bad0-ff86b92be665",
   "metadata": {},
   "outputs": [],
   "source": []
  },
  {
   "cell_type": "code",
   "execution_count": null,
   "id": "c808df2e-13aa-4cdf-b077-ec006bb092e9",
   "metadata": {},
   "outputs": [],
   "source": []
  },
  {
   "cell_type": "code",
   "execution_count": null,
   "id": "afd1dea6-2c0d-4c3a-a464-342f64c3ab9a",
   "metadata": {},
   "outputs": [],
   "source": []
  }
 ],
 "metadata": {
  "kernelspec": {
   "display_name": "Python 3 (ipykernel)",
   "language": "python",
   "name": "python3"
  },
  "language_info": {
   "codemirror_mode": {
    "name": "ipython",
    "version": 3
   },
   "file_extension": ".py",
   "mimetype": "text/x-python",
   "name": "python",
   "nbconvert_exporter": "python",
   "pygments_lexer": "ipython3",
   "version": "3.10.8"
  }
 },
 "nbformat": 4,
 "nbformat_minor": 5
}
