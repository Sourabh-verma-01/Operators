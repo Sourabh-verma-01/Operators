{
 "cells": [
  {
   "cell_type": "markdown",
   "id": "a35ff7b9-6892-41c2-b322-ea3c1c436825",
   "metadata": {},
   "source": [
    "# Type Casting"
   ]
  },
  {
   "cell_type": "code",
   "execution_count": 5,
   "id": "8a883981-326f-4697-994d-20f52213a717",
   "metadata": {},
   "outputs": [],
   "source": [
    "#intiger valu\n",
    "a = 5"
   ]
  },
  {
   "cell_type": "code",
   "execution_count": 2,
   "id": "b64c2d46-7abf-4d48-943c-53f9c18001c9",
   "metadata": {},
   "outputs": [
    {
     "data": {
      "text/plain": [
       "int"
      ]
     },
     "execution_count": 2,
     "metadata": {},
     "output_type": "execute_result"
    }
   ],
   "source": [
    "type(a)"
   ]
  },
  {
   "cell_type": "code",
   "execution_count": 6,
   "id": "a435d78e-2c25-4f09-83e0-11870800516e",
   "metadata": {},
   "outputs": [],
   "source": [
    "#float valu\n",
    "b = 5.6  "
   ]
  },
  {
   "cell_type": "code",
   "execution_count": 4,
   "id": "466a94ea-6510-4f55-95d7-1dce6838951a",
   "metadata": {},
   "outputs": [
    {
     "data": {
      "text/plain": [
       "float"
      ]
     },
     "execution_count": 4,
     "metadata": {},
     "output_type": "execute_result"
    }
   ],
   "source": [
    "type (b)"
   ]
  },
  {
   "cell_type": "code",
   "execution_count": 7,
   "id": "26038bbb-6542-4cfe-8b4f-b956fd22d4b8",
   "metadata": {},
   "outputs": [],
   "source": [
    "#string \n",
    "\n",
    "c = \"Sourabh\""
   ]
  },
  {
   "cell_type": "code",
   "execution_count": 8,
   "id": "775cb5da-9ba7-4d48-8c5f-54a6ac54f47e",
   "metadata": {},
   "outputs": [
    {
     "data": {
      "text/plain": [
       "str"
      ]
     },
     "execution_count": 8,
     "metadata": {},
     "output_type": "execute_result"
    }
   ],
   "source": [
    "type(c)"
   ]
  },
  {
   "cell_type": "code",
   "execution_count": 12,
   "id": "bb91476d-dd1e-4774-9848-ba0bdbc5674f",
   "metadata": {},
   "outputs": [
    {
     "name": "stdout",
     "output_type": "stream",
     "text": [
      "0\n",
      "1\n"
     ]
    },
    {
     "data": {
      "text/plain": [
       "int"
      ]
     },
     "execution_count": 12,
     "metadata": {},
     "output_type": "execute_result"
    }
   ],
   "source": [
    "print (d)\n",
    "print (e)\n",
    "type (d)\n",
    "type (e)"
   ]
  },
  {
   "cell_type": "code",
   "execution_count": 74,
   "id": "ef7eb4a0-230e-42a4-a6c8-1bc9dd045e6f",
   "metadata": {},
   "outputs": [
    {
     "ename": "TypeError",
     "evalue": "'int' object is not callable",
     "output_type": "error",
     "traceback": [
      "\u001b[0;31m---------------------------------------------------------------------------\u001b[0m",
      "\u001b[0;31mTypeError\u001b[0m                                 Traceback (most recent call last)",
      "Cell \u001b[0;32mIn[74], line 3\u001b[0m\n\u001b[1;32m      1\u001b[0m \u001b[38;5;66;03m#bolian (bool)\u001b[39;00m\n\u001b[0;32m----> 3\u001b[0m \u001b[38;5;28;43mbool\u001b[39;49m\u001b[43m(\u001b[49m\u001b[38;5;241;43m0\u001b[39;49m\u001b[43m)\u001b[49m\n",
      "\u001b[0;31mTypeError\u001b[0m: 'int' object is not callable"
     ]
    }
   ],
   "source": [
    "#bolian (bool)\n",
    "\n",
    "bool(0)"
   ]
  },
  {
   "cell_type": "code",
   "execution_count": 73,
   "id": "fabb4100-75e9-4ff2-9a48-f5b39074135a",
   "metadata": {},
   "outputs": [
    {
     "ename": "TypeError",
     "evalue": "'int' object is not callable",
     "output_type": "error",
     "traceback": [
      "\u001b[0;31m---------------------------------------------------------------------------\u001b[0m",
      "\u001b[0;31mTypeError\u001b[0m                                 Traceback (most recent call last)",
      "Cell \u001b[0;32mIn[73], line 1\u001b[0m\n\u001b[0;32m----> 1\u001b[0m \u001b[38;5;28;43mbool\u001b[39;49m\u001b[43m(\u001b[49m\u001b[38;5;241;43m1\u001b[39;49m\u001b[43m)\u001b[49m\n",
      "\u001b[0;31mTypeError\u001b[0m: 'int' object is not callable"
     ]
    }
   ],
   "source": [
    "bool(1)"
   ]
  },
  {
   "cell_type": "code",
   "execution_count": null,
   "id": "8f47cc79-e77c-4507-ab3d-a23f09b598f8",
   "metadata": {},
   "outputs": [],
   "source": []
  },
  {
   "cell_type": "code",
   "execution_count": null,
   "id": "46ecbc56-3bf1-479e-800e-e15248cf77e0",
   "metadata": {},
   "outputs": [],
   "source": []
  },
  {
   "cell_type": "code",
   "execution_count": 66,
   "id": "df949db1-1f3a-49dc-b99a-9f121ec098a1",
   "metadata": {},
   "outputs": [
    {
     "data": {
      "text/plain": [
       "10"
      ]
     },
     "execution_count": 66,
     "metadata": {},
     "output_type": "execute_result"
    }
   ],
   "source": [
    "#adding two initigers\n",
    "\n",
    "5+5"
   ]
  },
  {
   "cell_type": "code",
   "execution_count": 67,
   "id": "1bf53cf6-1d1b-41af-acef-fb311d2e7ac1",
   "metadata": {},
   "outputs": [
    {
     "ename": "TypeError",
     "evalue": "can only concatenate str (not \"int\") to str",
     "output_type": "error",
     "traceback": [
      "\u001b[0;31m---------------------------------------------------------------------------\u001b[0m",
      "\u001b[0;31mTypeError\u001b[0m                                 Traceback (most recent call last)",
      "Cell \u001b[0;32mIn[67], line 2\u001b[0m\n\u001b[1;32m      1\u001b[0m \u001b[38;5;66;03m# can not add string to a intiger, else it will throw an error.\u001b[39;00m\n\u001b[0;32m----> 2\u001b[0m \u001b[38;5;124;43m\"\u001b[39;49m\u001b[38;5;124;43m3\u001b[39;49m\u001b[38;5;124;43m\"\u001b[39;49m\u001b[38;5;241;43m+\u001b[39;49m\u001b[38;5;241;43m2\u001b[39;49m\n",
      "\u001b[0;31mTypeError\u001b[0m: can only concatenate str (not \"int\") to str"
     ]
    }
   ],
   "source": [
    "# can not add string to a intiger, else it will throw an error.\n",
    "\"3\"+2"
   ]
  },
  {
   "cell_type": "markdown",
   "id": "a64b5fbb-79a8-4889-be09-4a01d88baae0",
   "metadata": {},
   "source": [
    "### Type casting/ type canversion >> The process of changing the data type of a value/object  in python is known as type casting or type conversion\n",
    "\n",
    "### Q. why type casting type casting is necessary..?\n",
    "\n",
    "## >> while executing/ computation useing operators, there can be missmatch between data typs\n"
   ]
  },
  {
   "cell_type": "code",
   "execution_count": 15,
   "id": "922700fc-f44f-4af2-8023-a439b863f3a4",
   "metadata": {},
   "outputs": [
    {
     "ename": "TypeError",
     "evalue": "can only concatenate str (not \"int\") to str",
     "output_type": "error",
     "traceback": [
      "\u001b[0;31m---------------------------------------------------------------------------\u001b[0m",
      "\u001b[0;31mTypeError\u001b[0m                                 Traceback (most recent call last)",
      "Cell \u001b[0;32mIn[15], line 5\u001b[0m\n\u001b[1;32m      3\u001b[0m a \u001b[38;5;241m=\u001b[39m \u001b[38;5;124m\"\u001b[39m\u001b[38;5;124m2\u001b[39m\u001b[38;5;124m\"\u001b[39m\n\u001b[1;32m      4\u001b[0m b \u001b[38;5;241m=\u001b[39m  \u001b[38;5;241m3\u001b[39m\n\u001b[0;32m----> 5\u001b[0m \u001b[43ma\u001b[49m\u001b[38;5;241;43m+\u001b[39;49m\u001b[43mb\u001b[49m\n",
      "\u001b[0;31mTypeError\u001b[0m: can only concatenate str (not \"int\") to str"
     ]
    }
   ],
   "source": [
    "# how to convert string to integer\n",
    "\n",
    "a = \"2\"\n",
    "b =  3\n",
    "a+b\n"
   ]
  },
  {
   "cell_type": "code",
   "execution_count": 16,
   "id": "eb50acc6-1a33-4c5a-b842-0ff348c37e51",
   "metadata": {},
   "outputs": [
    {
     "data": {
      "text/plain": [
       "str"
      ]
     },
     "execution_count": 16,
     "metadata": {},
     "output_type": "execute_result"
    }
   ],
   "source": [
    "type (a)"
   ]
  },
  {
   "cell_type": "code",
   "execution_count": 18,
   "id": "e72e4bca-286d-46ff-8169-4bca00b16597",
   "metadata": {},
   "outputs": [
    {
     "data": {
      "text/plain": [
       "5"
      ]
     },
     "execution_count": 18,
     "metadata": {},
     "output_type": "execute_result"
    }
   ],
   "source": [
    "a = \"2\"\n",
    "b =  3\n",
    "int (a)+b"
   ]
  },
  {
   "cell_type": "code",
   "execution_count": 23,
   "id": "075bff38-4822-4029-8f6a-d74cf36848dd",
   "metadata": {},
   "outputs": [
    {
     "name": "stdout",
     "output_type": "stream",
     "text": [
      "<class 'str'>\n",
      "<class 'int'>\n"
     ]
    }
   ],
   "source": [
    "# eample \n",
    "a = \"2\"\n",
    "print(type(a))\n",
    "print(type(int(a)))"
   ]
  },
  {
   "cell_type": "code",
   "execution_count": 27,
   "id": "1e5e1d65-46e8-48b4-a03f-755ee3cc7f08",
   "metadata": {},
   "outputs": [
    {
     "data": {
      "text/plain": [
       "float"
      ]
     },
     "execution_count": 27,
     "metadata": {},
     "output_type": "execute_result"
    }
   ],
   "source": [
    "# flost to int\n",
    "\n",
    "a = 5.2\n",
    "type (a)"
   ]
  },
  {
   "cell_type": "code",
   "execution_count": 30,
   "id": "f4d64e79-6cc7-42a7-86e8-52c13e3316bc",
   "metadata": {},
   "outputs": [
    {
     "data": {
      "text/plain": [
       "5"
      ]
     },
     "execution_count": 30,
     "metadata": {},
     "output_type": "execute_result"
    }
   ],
   "source": [
    "int(a)\n"
   ]
  },
  {
   "cell_type": "code",
   "execution_count": 32,
   "id": "87249dea-e8c8-439a-80c3-54bad3f32780",
   "metadata": {},
   "outputs": [
    {
     "data": {
      "text/plain": [
       "float"
      ]
     },
     "execution_count": 32,
     "metadata": {},
     "output_type": "execute_result"
    }
   ],
   "source": [
    "#string to float\n",
    "w = 3.4\n",
    "type(w)\n"
   ]
  },
  {
   "cell_type": "code",
   "execution_count": 39,
   "id": "a605a258-24f4-4cba-8efb-9d1d54ea804a",
   "metadata": {},
   "outputs": [
    {
     "data": {
      "text/plain": [
       "float"
      ]
     },
     "execution_count": 39,
     "metadata": {},
     "output_type": "execute_result"
    }
   ],
   "source": [
    "x = float(w)\n",
    "type (x)"
   ]
  },
  {
   "cell_type": "code",
   "execution_count": 40,
   "id": "0b1212e2-ec1d-4f1b-9510-f8c3706fe61a",
   "metadata": {},
   "outputs": [
    {
     "data": {
      "text/plain": [
       "str"
      ]
     },
     "execution_count": 40,
     "metadata": {},
     "output_type": "execute_result"
    }
   ],
   "source": [
    "#character can not be converted into a float or intiger\n",
    "\n",
    "q = \"Ankit\"\n",
    "type(q)"
   ]
  },
  {
   "cell_type": "code",
   "execution_count": 41,
   "id": "ec485357-312f-4cce-afd0-096f5da795f7",
   "metadata": {},
   "outputs": [
    {
     "ename": "ValueError",
     "evalue": "invalid literal for int() with base 10: 'Ankit'",
     "output_type": "error",
     "traceback": [
      "\u001b[0;31m---------------------------------------------------------------------------\u001b[0m",
      "\u001b[0;31mValueError\u001b[0m                                Traceback (most recent call last)",
      "Cell \u001b[0;32mIn[41], line 4\u001b[0m\n\u001b[1;32m      1\u001b[0m \u001b[38;5;66;03m#example ->>\u001b[39;00m\n\u001b[1;32m      2\u001b[0m \u001b[38;5;66;03m# if you try to covert string like (\"Ankit\") then it will never converted and always throw error.\u001b[39;00m\n\u001b[0;32m----> 4\u001b[0m \u001b[38;5;28;43mint\u001b[39;49m\u001b[43m \u001b[49m\u001b[43m(\u001b[49m\u001b[43mq\u001b[49m\u001b[43m)\u001b[49m\n",
      "\u001b[0;31mValueError\u001b[0m: invalid literal for int() with base 10: 'Ankit'"
     ]
    }
   ],
   "source": [
    "#example ->>\n",
    "# if you try to covert string like (\"Ankit\") then it will never converted and always throw error.\n",
    "\n",
    "int (q)"
   ]
  },
  {
   "cell_type": "code",
   "execution_count": 50,
   "id": "72eb0d8b-5ba7-4915-85e7-69cd4811122a",
   "metadata": {},
   "outputs": [
    {
     "data": {
      "text/plain": [
       "int"
      ]
     },
     "execution_count": 50,
     "metadata": {},
     "output_type": "execute_result"
    }
   ],
   "source": [
    "#converting intiger to string \n",
    "\n",
    "v = 3\n",
    "type(v)"
   ]
  },
  {
   "cell_type": "code",
   "execution_count": 51,
   "id": "196798be-fc1e-410b-b5c6-7c555e1b2845",
   "metadata": {},
   "outputs": [],
   "source": [
    "f = str(v)"
   ]
  },
  {
   "cell_type": "code",
   "execution_count": 55,
   "id": "d46a16e2-e1ca-4f9f-971c-4fb85e0bded4",
   "metadata": {},
   "outputs": [
    {
     "data": {
      "text/plain": [
       "'3'"
      ]
     },
     "execution_count": 55,
     "metadata": {},
     "output_type": "execute_result"
    }
   ],
   "source": [
    "f"
   ]
  },
  {
   "cell_type": "code",
   "execution_count": 56,
   "id": "bc53a795-eb01-4efa-8b8c-70545d47ec5a",
   "metadata": {},
   "outputs": [
    {
     "data": {
      "text/plain": [
       "str"
      ]
     },
     "execution_count": 56,
     "metadata": {},
     "output_type": "execute_result"
    }
   ],
   "source": [
    "type(f)\n"
   ]
  },
  {
   "cell_type": "markdown",
   "id": "ff119326-5d6a-42f4-8f04-545032329c05",
   "metadata": {},
   "source": [
    "# Type casting  -->>\n",
    "## Two types --->>\n",
    "\n",
    "1. implicit\n",
    "2. explicit\n",
    "\n",
    "### Example\n",
    "implicit -->> python understand the data types, (Implicit data type conversion is done automatically by the python compiler without any involvement of the user)\n",
    " like -- int, float, string\n",
    " \n",
    "explicit-->> when acctualy we are doing type casting its called explicit.  (Explicit type conversion is performed by the user by explicitly using type conversion functions in the program code.)"
   ]
  },
  {
   "cell_type": "code",
   "execution_count": 58,
   "id": "01b958a5-9276-492e-86e7-b62a055b0756",
   "metadata": {},
   "outputs": [
    {
     "ename": "TypeError",
     "evalue": "can only concatenate str (not \"int\") to str",
     "output_type": "error",
     "traceback": [
      "\u001b[0;31m---------------------------------------------------------------------------\u001b[0m",
      "\u001b[0;31mTypeError\u001b[0m                                 Traceback (most recent call last)",
      "Cell \u001b[0;32mIn[58], line 6\u001b[0m\n\u001b[1;32m      4\u001b[0m a \u001b[38;5;241m=\u001b[39m \u001b[38;5;124m\"\u001b[39m\u001b[38;5;124mAnkit\u001b[39m\u001b[38;5;124m\"\u001b[39m\n\u001b[1;32m      5\u001b[0m b \u001b[38;5;241m=\u001b[39m \u001b[38;5;241m2\u001b[39m\n\u001b[0;32m----> 6\u001b[0m \u001b[43ma\u001b[49m\u001b[38;5;241;43m+\u001b[39;49m\u001b[43mb\u001b[49m\n",
      "\u001b[0;31mTypeError\u001b[0m: can only concatenate str (not \"int\") to str"
     ]
    }
   ],
   "source": [
    "# concatenate --->> \n",
    "#Examole- \n",
    "\n",
    "a = \"Ankit\"\n",
    "b = 2\n",
    "a+b"
   ]
  },
  {
   "cell_type": "code",
   "execution_count": 63,
   "id": "0d9ced57-0cff-40a0-9e18-bf15b0b70313",
   "metadata": {},
   "outputs": [
    {
     "data": {
      "text/plain": [
       "'Ankit verma '"
      ]
     },
     "execution_count": 63,
     "metadata": {},
     "output_type": "execute_result"
    }
   ],
   "source": [
    "# concatenate -->> adding two strings \n",
    "\n",
    "a = \"Ankit\"\n",
    "b = \" verma \"\n",
    "a+b"
   ]
  },
  {
   "cell_type": "code",
   "execution_count": 65,
   "id": "e0fc569c-c35b-4c3a-bb63-5c77658e9200",
   "metadata": {},
   "outputs": [
    {
     "data": {
      "text/plain": [
       "'100rab'"
      ]
     },
     "execution_count": 65,
     "metadata": {},
     "output_type": "execute_result"
    }
   ],
   "source": [
    "\"100\"+\"rab\"\n",
    "# we can also add this type of string"
   ]
  },
  {
   "cell_type": "code",
   "execution_count": 2,
   "id": "dc48bfde-0afb-4fbb-a158-1dbd7fe6f9f5",
   "metadata": {},
   "outputs": [
    {
     "data": {
      "text/plain": [
       "True"
      ]
     },
     "execution_count": 2,
     "metadata": {},
     "output_type": "execute_result"
    }
   ],
   "source": [
    "bool(100)"
   ]
  },
  {
   "cell_type": "code",
   "execution_count": null,
   "id": "8d5eb358-9dff-424d-8b20-4d6a3e9d8b4d",
   "metadata": {},
   "outputs": [],
   "source": []
  },
  {
   "cell_type": "code",
   "execution_count": null,
   "id": "90df1c0b-4123-467a-bbbc-8621e7868413",
   "metadata": {},
   "outputs": [],
   "source": []
  },
  {
   "cell_type": "code",
   "execution_count": null,
   "id": "00059684-63ef-4689-aafb-f8bc7077e201",
   "metadata": {
    "tags": []
   },
   "outputs": [],
   "source": []
  },
  {
   "cell_type": "code",
   "execution_count": null,
   "id": "d5abe38c-8c00-41db-bbe0-72fb9324b94a",
   "metadata": {},
   "outputs": [],
   "source": []
  }
 ],
 "metadata": {
  "kernelspec": {
   "display_name": "Python 3 (ipykernel)",
   "language": "python",
   "name": "python3"
  },
  "language_info": {
   "codemirror_mode": {
    "name": "ipython",
    "version": 3
   },
   "file_extension": ".py",
   "mimetype": "text/x-python",
   "name": "python",
   "nbconvert_exporter": "python",
   "pygments_lexer": "ipython3",
   "version": "3.10.8"
  }
 },
 "nbformat": 4,
 "nbformat_minor": 5
}
