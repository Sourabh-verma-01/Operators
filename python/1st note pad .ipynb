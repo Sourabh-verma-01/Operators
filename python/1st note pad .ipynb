{
 "cells": [
  {
   "cell_type": "code",
   "execution_count": 1,
   "id": "393b9c74-a8dd-4673-8386-23a664605f99",
   "metadata": {},
   "outputs": [
    {
     "data": {
      "text/plain": [
       "3"
      ]
     },
     "execution_count": 1,
     "metadata": {},
     "output_type": "execute_result"
    }
   ],
   "source": [
    "1+2\n"
   ]
  },
  {
   "cell_type": "code",
   "execution_count": 2,
   "id": "1cab0d5f-f6e4-4098-bdcb-3a6851668374",
   "metadata": {},
   "outputs": [
    {
     "data": {
      "text/plain": [
       "7"
      ]
     },
     "execution_count": 2,
     "metadata": {},
     "output_type": "execute_result"
    }
   ],
   "source": [
    "2+5"
   ]
  },
  {
   "cell_type": "code",
   "execution_count": 7,
   "id": "87e0a433-d8d9-4303-acbd-3fe8be047249",
   "metadata": {},
   "outputs": [
    {
     "data": {
      "text/plain": [
       "8"
      ]
     },
     "execution_count": 7,
     "metadata": {},
     "output_type": "execute_result"
    }
   ],
   "source": [
    "a = 2+3 \n",
    "b = 2+1\n",
    "\n",
    "a+b\n"
   ]
  },
  {
   "cell_type": "code",
   "execution_count": 1,
   "id": "b7012926-59c8-4c11-8a68-bf7f76c79204",
   "metadata": {},
   "outputs": [
    {
     "data": {
      "text/plain": [
       "2"
      ]
     },
     "execution_count": 1,
     "metadata": {},
     "output_type": "execute_result"
    }
   ],
   "source": [
    "1+1"
   ]
  },
  {
   "cell_type": "code",
   "execution_count": 2,
   "id": "9a531b8d-a893-4796-ab50-4ece00e8fc4d",
   "metadata": {},
   "outputs": [
    {
     "data": {
      "text/plain": [
       "25"
      ]
     },
     "execution_count": 2,
     "metadata": {},
     "output_type": "execute_result"
    }
   ],
   "source": [
    "5*5"
   ]
  },
  {
   "cell_type": "markdown",
   "id": "6c336f8b-8bdb-480f-b294-132da5594c2f",
   "metadata": {},
   "source": [
    "## Variable\n",
    "\n",
    "Difining a variable.\n",
    "\n",
    "a is an variable of 10.\n",
    "\n",
    "Left side is also an variale. \n"
   ]
  },
  {
   "cell_type": "code",
   "execution_count": 14,
   "id": "a790635e-2860-4e17-a9fa-aec25a8d1df3",
   "metadata": {},
   "outputs": [],
   "source": [
    "# Difining a variable\n",
    "# a is an variable of 10\n",
    "# Left side is also an variale \n",
    "\n",
    "a = 10"
   ]
  },
  {
   "cell_type": "code",
   "execution_count": 8,
   "id": "8834acae-ba00-49e6-8228-96d19880ebf4",
   "metadata": {},
   "outputs": [
    {
     "data": {
      "text/plain": [
       "10"
      ]
     },
     "execution_count": 8,
     "metadata": {},
     "output_type": "execute_result"
    }
   ],
   "source": [
    "a"
   ]
  },
  {
   "cell_type": "markdown",
   "id": "29c7f238-e953-44b9-bb5a-b8011623a568",
   "metadata": {},
   "source": [
    "Types of Variable"
   ]
  },
  {
   "cell_type": "code",
   "execution_count": 3,
   "id": "f835984e-bf17-473c-ae11-3b1872e9684f",
   "metadata": {},
   "outputs": [],
   "source": [
    "a = 10\n",
    "b = 1.20\n",
    "c = \"Sourabh\"\n",
    "d = True\n",
    "e = 2+2j"
   ]
  },
  {
   "cell_type": "code",
   "execution_count": 14,
   "id": "e72ccdc1-b7d9-4cab-9486-33b364d20479",
   "metadata": {},
   "outputs": [
    {
     "name": "stdout",
     "output_type": "stream",
     "text": [
      "10\n",
      "1.2\n",
      "Sourabh\n",
      "True\n",
      "<class 'complex'>\n"
     ]
    }
   ],
   "source": [
    "print(a)\n",
    "print(b)\n",
    "print(c)\n",
    "print(d)\n",
    "print(type(e))"
   ]
  },
  {
   "cell_type": "code",
   "execution_count": 13,
   "id": "27f2057f-ac36-4155-b191-687c4e688e5d",
   "metadata": {},
   "outputs": [
    {
     "data": {
      "text/plain": [
       "float"
      ]
     },
     "execution_count": 13,
     "metadata": {},
     "output_type": "execute_result"
    }
   ],
   "source": [
    "type(b)"
   ]
  },
  {
   "cell_type": "code",
   "execution_count": null,
   "id": "22963a8b-ee3e-465b-9269-f25a4923144b",
   "metadata": {},
   "outputs": [],
   "source": [
    "z1 = 6 + 7j\n",
    "z2 = 1 + 4j\n",
    "\n",
    "print(\"Addition of numbers:\", z1 + z2)\n",
    "print(\"Subtraction of numbers:\", z1 - z2)\n",
    "print(\"Multiplication of numbers:\", z1 * z2)\n",
    "print(\"Division of numbers:\", z1 / z2)"
   ]
  },
  {
   "cell_type": "code",
   "execution_count": null,
   "id": "8430882e-ebb0-4f04-9b7b-f217d99308fe",
   "metadata": {},
   "outputs": [],
   "source": []
  },
  {
   "cell_type": "code",
   "execution_count": 13,
   "id": "8f8d0b45-303b-4250-8d5a-84501de2c81e",
   "metadata": {},
   "outputs": [
    {
     "name": "stdout",
     "output_type": "stream",
     "text": [
      "20\n",
      "10\n"
     ]
    }
   ],
   "source": [
    "# we can create any name of varivable exept special charectores\n",
    "\n",
    "Sou = 20\n",
    "a   = 10\n",
    "\n",
    "print (Sou)\n",
    "print (a)\n"
   ]
  },
  {
   "cell_type": "code",
   "execution_count": 14,
   "id": "1a0605bf-5801-4ed2-bf59-baa4acc72d68",
   "metadata": {},
   "outputs": [
    {
     "name": "stdout",
     "output_type": "stream",
     "text": [
      "20\n",
      "10\n"
     ]
    }
   ],
   "source": [
    "print(Sou)\n",
    "print(a)\n"
   ]
  },
  {
   "cell_type": "code",
   "execution_count": 15,
   "id": "92c7ae68-5c5b-4a98-ab7a-503381cfcacb",
   "metadata": {},
   "outputs": [
    {
     "data": {
      "text/plain": [
       "30"
      ]
     },
     "execution_count": 15,
     "metadata": {},
     "output_type": "execute_result"
    }
   ],
   "source": [
    "a + Sou"
   ]
  },
  {
   "cell_type": "code",
   "execution_count": 18,
   "id": "3724225b-de74-48ed-b686-1c54075d8b9e",
   "metadata": {},
   "outputs": [
    {
     "data": {
      "text/plain": [
       "int"
      ]
     },
     "execution_count": 18,
     "metadata": {},
     "output_type": "execute_result"
    }
   ],
   "source": [
    "type (a)"
   ]
  },
  {
   "cell_type": "code",
   "execution_count": 16,
   "id": "9d641358-f07d-4a89-9b5e-95563278e1a7",
   "metadata": {},
   "outputs": [
    {
     "data": {
      "text/plain": [
       "int"
      ]
     },
     "execution_count": 16,
     "metadata": {},
     "output_type": "execute_result"
    }
   ],
   "source": [
    "type(Sou)"
   ]
  },
  {
   "cell_type": "markdown",
   "id": "74c45e08-f082-4cb1-b531-5d0a0b5df91a",
   "metadata": {},
   "source": [
    "## input Function"
   ]
  },
  {
   "cell_type": "code",
   "execution_count": 17,
   "id": "c2084d42-f4ce-4a7a-8b0c-d8757a3e47ad",
   "metadata": {},
   "outputs": [
    {
     "name": "stdin",
     "output_type": "stream",
     "text": [
      "enter your name Sk\n"
     ]
    },
    {
     "data": {
      "text/plain": [
       "'Sk'"
      ]
     },
     "execution_count": 17,
     "metadata": {},
     "output_type": "execute_result"
    }
   ],
   "source": [
    "input(\"enter your name\")"
   ]
  },
  {
   "cell_type": "markdown",
   "id": "ae739b51-40c6-4f10-9ab1-8e9214ca8316",
   "metadata": {},
   "source": [
    "## python keywords\n",
    "\n",
    "# Example"
   ]
  },
  {
   "cell_type": "code",
   "execution_count": 22,
   "id": "8dd56938-935b-4cda-beac-adf4e066ad75",
   "metadata": {},
   "outputs": [
    {
     "name": "stdout",
     "output_type": "stream",
     "text": [
      "\n",
      "Here is a list of the Python keywords.  Enter any keyword to get more help.\n",
      "\n",
      "False               class               from                or\n",
      "None                continue            global              pass\n",
      "True                def                 if                  raise\n",
      "and                 del                 import              return\n",
      "as                  elif                in                  try\n",
      "assert              else                is                  while\n",
      "async               except              lambda              with\n",
      "await               finally             nonlocal            yield\n",
      "break               for                 not                 \n",
      "\n"
     ]
    }
   ],
   "source": [
    "#Keywords of python \n",
    "help('keywords')"
   ]
  },
  {
   "cell_type": "markdown",
   "id": "3792bdb6-070f-4771-803e-0ab7e4830c5a",
   "metadata": {},
   "source": [
    "## Indenttaion\n",
    "\n",
    "#indentation"
   ]
  },
  {
   "cell_type": "raw",
   "id": "76be7765-f161-4f53-a596-e0e8a8c61b9b",
   "metadata": {},
   "source": [
    "इंडेंटेशन से तात्पर्य कोड लाइन के आरंभ में स्थित रिक्त स्थान से है। जहां अन्य प्रोग्रामिंग भाषाओं में कोड में इंडेंटेशन केवल पठनीयता के लिए होता है, वहीं पायथन में इंडेंटेशन बहुत महत्वपूर्ण है। पायथन कोड के ब्लॉक को इंगित करने के लिए इंडेंटेशन का उपयोग करता है।"
   ]
  },
  {
   "cell_type": "markdown",
   "id": "c6a37bea-2976-409a-8e1a-c3dd0b77855b",
   "metadata": {},
   "source": [
    "# Mutability and immutability\n",
    "\n",
    "## Memory Alocation"
   ]
  },
  {
   "cell_type": "code",
   "execution_count": 6,
   "id": "cf8e25a2-b8e1-4a2e-af51-cbe01c9ccb58",
   "metadata": {},
   "outputs": [
    {
     "data": {
      "text/plain": [
       "9"
      ]
     },
     "execution_count": 6,
     "metadata": {},
     "output_type": "execute_result"
    }
   ],
   "source": [
    "a = 9\n",
    "a\n"
   ]
  },
  {
   "cell_type": "code",
   "execution_count": 8,
   "id": "f175120b-5103-49f1-a226-d00a44c3a946",
   "metadata": {},
   "outputs": [],
   "source": [
    "b = \"Sourabh\""
   ]
  },
  {
   "cell_type": "code",
   "execution_count": 9,
   "id": "01a9e37d-8f7c-417f-a440-4fda31a09f86",
   "metadata": {},
   "outputs": [
    {
     "data": {
      "text/plain": [
       "'Sourabh'"
      ]
     },
     "execution_count": 9,
     "metadata": {},
     "output_type": "execute_result"
    }
   ],
   "source": [
    "b"
   ]
  },
  {
   "cell_type": "code",
   "execution_count": 14,
   "id": "f345c08b-4b56-4d05-97e0-cf64a4a75890",
   "metadata": {},
   "outputs": [
    {
     "data": {
      "text/plain": [
       "'S'"
      ]
     },
     "execution_count": 14,
     "metadata": {},
     "output_type": "execute_result"
    }
   ],
   "source": [
    "b[0]\n"
   ]
  },
  {
   "cell_type": "code",
   "execution_count": 17,
   "id": "369c3526-c04a-4fe5-bd52-ecc9c7f0d681",
   "metadata": {},
   "outputs": [
    {
     "data": {
      "text/plain": [
       "'u'"
      ]
     },
     "execution_count": 17,
     "metadata": {},
     "output_type": "execute_result"
    }
   ],
   "source": [
    "b[2]"
   ]
  },
  {
   "cell_type": "code",
   "execution_count": 18,
   "id": "b94860d3-dd7a-41fa-9058-e7e9c05c4fe2",
   "metadata": {},
   "outputs": [
    {
     "data": {
      "text/plain": [
       "'h'"
      ]
     },
     "execution_count": 18,
     "metadata": {},
     "output_type": "execute_result"
    }
   ],
   "source": [
    "b[-1]"
   ]
  },
  {
   "cell_type": "code",
   "execution_count": 20,
   "id": "d61a4532-dbce-43e3-802a-27b2db69d876",
   "metadata": {},
   "outputs": [
    {
     "data": {
      "text/plain": [
       "'S'"
      ]
     },
     "execution_count": 20,
     "metadata": {},
     "output_type": "execute_result"
    }
   ],
   "source": [
    "b[-7]"
   ]
  },
  {
   "cell_type": "code",
   "execution_count": 29,
   "id": "88d4b3d4-fe68-4a8f-bd2f-d5ef9572b44e",
   "metadata": {},
   "outputs": [
    {
     "data": {
      "text/plain": [
       "'Jojo'"
      ]
     },
     "execution_count": 29,
     "metadata": {},
     "output_type": "execute_result"
    }
   ],
   "source": [
    "# we can not change/replace str or value \n",
    "\n",
    "c = \"Jojo\"\n",
    "c"
   ]
  },
  {
   "cell_type": "code",
   "execution_count": 28,
   "id": "3f613e16-1baa-47fc-9c55-f335bb835ca4",
   "metadata": {},
   "outputs": [
    {
     "ename": "NameError",
     "evalue": "name 'Momo' is not defined",
     "output_type": "error",
     "traceback": [
      "\u001b[0;31m---------------------------------------------------------------------------\u001b[0m",
      "\u001b[0;31mNameError\u001b[0m                                 Traceback (most recent call last)",
      "Cell \u001b[0;32mIn[28], line 2\u001b[0m\n\u001b[1;32m      1\u001b[0m \u001b[38;5;66;03m# throing error while trying to change the value\u001b[39;00m\n\u001b[0;32m----> 2\u001b[0m c[Jojo] \u001b[38;5;241m=\u001b[39m \u001b[43mMomo\u001b[49m\n",
      "\u001b[0;31mNameError\u001b[0m: name 'Momo' is not defined"
     ]
    }
   ],
   "source": [
    "# throing error while trying to change the value\n",
    "c[Jojo] = Momo"
   ]
  },
  {
   "cell_type": "markdown",
   "id": "29acd552-7974-490e-ba3a-cde3b2119099",
   "metadata": {},
   "source": [
    "# List\n",
    "\n",
    "## List Example\n",
    "\n",
    "### List is an mmutable object"
   ]
  },
  {
   "cell_type": "code",
   "execution_count": 3,
   "id": "ef024477-0952-4518-a16d-9a22de089eb5",
   "metadata": {},
   "outputs": [],
   "source": [
    "sk_verma = [\"Sourabh\", 32, 8269058055, True, \"joney\"]  "
   ]
  },
  {
   "cell_type": "code",
   "execution_count": 4,
   "id": "33a3c5e8-0d0f-4792-81cd-b6e92f473c39",
   "metadata": {},
   "outputs": [
    {
     "data": {
      "text/plain": [
       "['Sourabh', 32, 8269058055, True, 'joney']"
      ]
     },
     "execution_count": 4,
     "metadata": {},
     "output_type": "execute_result"
    }
   ],
   "source": [
    "sk_verma"
   ]
  },
  {
   "cell_type": "code",
   "execution_count": 6,
   "id": "996ffc1f-f9c2-4e4b-b2c1-f2b56a436c12",
   "metadata": {},
   "outputs": [],
   "source": [
    "sk_verma[0] = \"luvkush\""
   ]
  },
  {
   "cell_type": "code",
   "execution_count": 8,
   "id": "7d7e08ee-edae-4425-903d-e498bc52e195",
   "metadata": {},
   "outputs": [
    {
     "data": {
      "text/plain": [
       "['luvkush', 32, 8269058055, True, 'joney']"
      ]
     },
     "execution_count": 8,
     "metadata": {},
     "output_type": "execute_result"
    }
   ],
   "source": [
    "sk_verma"
   ]
  },
  {
   "cell_type": "code",
   "execution_count": null,
   "id": "e2a682a7-f2e2-47ee-b066-81ca389ba216",
   "metadata": {},
   "outputs": [],
   "source": []
  },
  {
   "cell_type": "code",
   "execution_count": null,
   "id": "78334338-01c1-43bf-91ff-be47eda50445",
   "metadata": {},
   "outputs": [],
   "source": []
  },
  {
   "cell_type": "code",
   "execution_count": null,
   "id": "3ae3b364-d09a-4396-bcb2-99fd5600dab5",
   "metadata": {},
   "outputs": [],
   "source": []
  },
  {
   "cell_type": "code",
   "execution_count": null,
   "id": "85e745ff-98a2-4527-9360-38fbb57fed37",
   "metadata": {},
   "outputs": [],
   "source": []
  },
  {
   "cell_type": "code",
   "execution_count": null,
   "id": "3f763727-8176-4bed-9bb2-d986d9d59a32",
   "metadata": {},
   "outputs": [],
   "source": []
  },
  {
   "cell_type": "code",
   "execution_count": null,
   "id": "bb264399-2438-47a6-9e92-57acd0d01696",
   "metadata": {},
   "outputs": [],
   "source": []
  },
  {
   "cell_type": "code",
   "execution_count": null,
   "id": "b934f08d-de57-4ce3-b54e-bc935ae1b915",
   "metadata": {},
   "outputs": [],
   "source": []
  }
 ],
 "metadata": {
  "kernelspec": {
   "display_name": "Python 3 (ipykernel)",
   "language": "python",
   "name": "python3"
  },
  "language_info": {
   "codemirror_mode": {
    "name": "ipython",
    "version": 3
   },
   "file_extension": ".py",
   "mimetype": "text/x-python",
   "name": "python",
   "nbconvert_exporter": "python",
   "pygments_lexer": "ipython3",
   "version": "3.10.8"
  },
  "toc-autonumbering": false,
  "toc-showcode": true,
  "toc-showmarkdowntxt": true,
  "toc-showtags": false
 },
 "nbformat": 4,
 "nbformat_minor": 5
}
