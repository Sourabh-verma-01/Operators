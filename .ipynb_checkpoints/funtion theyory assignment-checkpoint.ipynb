{
 "cells": [
  {
   "cell_type": "code",
   "execution_count": 15,
   "id": "b2994506-6325-4956-93dc-7528c51b251f",
   "metadata": {},
   "outputs": [
    {
     "name": "stdout",
     "output_type": "stream",
     "text": [
      "My Name is\n",
      "Sourabh\n",
      "I am learning at pw skils\n"
     ]
    }
   ],
   "source": [
    "#1.\n",
    "# Example of function\n",
    "def greet():\n",
    "    print('My Name is')\n",
    "\n",
    "# call the function\n",
    "greet()\n",
    "\n",
    "print('Sourabh')\n",
    "\n",
    "# Example of method\n",
    "\n",
    "class Pet(object):\n",
    "   def my_method(self):\n",
    "      print(\"I am learning at pw skils\")\n",
    "cat = Pet()\n",
    "cat.my_method()\n"
   ]
  },
  {
   "cell_type": "code",
   "execution_count": 32,
   "id": "7ddeaecf-1ad4-4b9e-a6ad-6d2bd645283e",
   "metadata": {},
   "outputs": [
    {
     "name": "stdout",
     "output_type": "stream",
     "text": [
      "Sum: 5\n",
      "Sum of two numbers:  (' first number: ', 5, 'second number: ', 4)\n"
     ]
    }
   ],
   "source": [
    "#2. \n",
    "#Example of Function Arguments \n",
    "\n",
    "def add_numbers(a, b):\n",
    "    sum = a + b\n",
    "    print('Sum:', sum)\n",
    "\n",
    "add_numbers(2, 3)\n",
    "\n",
    "#Example of Parameters \n",
    "\n",
    "def add_func(a,b):  \n",
    "    sum = a + b  \n",
    "    return sum  \n",
    "num1 = (\" first number: \",5) \n",
    "num2 = (\"second number: \",4) \n",
    "print(\"Sum of two numbers: \",add_func(num1, num2))  \n",
    "\n"
   ]
  },
  {
   "cell_type": "code",
   "execution_count": 39,
   "id": "b8355e5c-5e82-491e-b37a-000fb924195d",
   "metadata": {},
   "outputs": [
    {
     "name": "stdout",
     "output_type": "stream",
     "text": [
      "Hii, Sourabh! How are you?\n"
     ]
    }
   ],
   "source": [
    "#3\n",
    "def greet(name): #function defined\n",
    "    print(\"Hii, \"+  name + \"! How are you?\")\n",
    "\n",
    "greet(\"Sourabh\") #Calling a function,"
   ]
  },
  {
   "cell_type": "code",
   "execution_count": 40,
   "id": "e4a786b0-5aa8-406f-8671-c32308246ff0",
   "metadata": {},
   "outputs": [
    {
     "name": "stdout",
     "output_type": "stream",
     "text": [
      "Output of adding(16, 25) function is 41\n"
     ]
    }
   ],
   "source": [
    "#4\n",
    "\n",
    "def adding(x, y):  \n",
    "    i = x + y  \n",
    "    return i  \n",
    "result = adding(16, 25)  \n",
    "print(f'Output of adding(16, 25) function is {result}')  "
   ]
  },
  {
   "cell_type": "code",
   "execution_count": 42,
   "id": "47b48527-3b64-4302-8921-063c4f73d604",
   "metadata": {},
   "outputs": [
    {
     "name": "stdout",
     "output_type": "stream",
     "text": [
      "apple\n",
      "banana\n",
      "cherry\n",
      "b\n",
      "a\n",
      "n\n",
      "a\n",
      "n\n",
      "a\n"
     ]
    }
   ],
   "source": [
    "5.\n",
    "#Return an iterator from a tuple, and print each value:\n",
    "\n",
    "# Example of itterators\n",
    "\n",
    "mytuple = (\"apple\", \"banana\", \"cherry\")\n",
    "myit = iter(mytuple)\n",
    "\n",
    "print(next(myit))\n",
    "print(next(myit))\n",
    "print(next(myit))\n",
    "\n",
    "\n",
    "# Example of iterables\n",
    "\n",
    "mystr = \"banana\"\n",
    "myit = iter(mystr)\n",
    "\n",
    "print(next(myit))\n",
    "print(next(myit))\n",
    "print(next(myit))\n",
    "print(next(myit))\n",
    "print(next(myit))\n",
    "print(next(myit))\n"
   ]
  },
  {
   "cell_type": "code",
   "execution_count": 56,
   "id": "700bd982-8352-4655-b6dc-6f01267e5cd3",
   "metadata": {},
   "outputs": [
    {
     "name": "stdout",
     "output_type": "stream",
     "text": [
      "[0, 2, 4, 6, 8, 10, 12, 14, 16, 18]\n"
     ]
    }
   ],
   "source": [
    "#6.\n",
    "def return_evens(lst):\n",
    "    for l in lst:\n",
    "        if l % 2 == 0:\n",
    "            yield l\n",
    "\n",
    "eggs = [x for x in range(20)]\n",
    "\n",
    "print(list(return_evens(eggs)))\n",
    "# Output: [0, 2, 4, 6, 8, 10, 12, 14, 16, 18]"
   ]
  },
  {
   "cell_type": "code",
   "execution_count": 58,
   "id": "39918a19-df80-4172-ba92-476b10f1a370",
   "metadata": {},
   "outputs": [],
   "source": [
    "# generator version\n",
    "def fibon(n):\n",
    "    a = b = 1\n",
    "    for i in xrange(n):\n",
    "        yield a\n",
    "        a, b = b, a + b"
   ]
  },
  {
   "cell_type": "code",
   "execution_count": 59,
   "id": "8396ace9-0237-4605-9c79-d46fb3938f02",
   "metadata": {},
   "outputs": [
    {
     "name": "stdout",
     "output_type": "stream",
     "text": [
      "b\n",
      "a\n",
      "n\n",
      "a\n",
      "n\n",
      "a\n"
     ]
    }
   ],
   "source": [
    "\n",
    "#7\n",
    "\n",
    "mystr = \"banana\"\n",
    "myit = iter(mystr)\n",
    "\n",
    "print(next(myit))\n",
    "print(next(myit))\n",
    "print(next(myit))\n",
    "print(next(myit))\n",
    "print(next(myit))\n",
    "print(next(myit))\n",
    "\n"
   ]
  },
  {
   "cell_type": "code",
   "execution_count": 60,
   "id": "8d707d6a-30a6-4a3c-9a75-5d07ff6fc0d4",
   "metadata": {},
   "outputs": [
    {
     "name": "stdout",
     "output_type": "stream",
     "text": [
      "15\n"
     ]
    }
   ],
   "source": [
    "8. \n",
    "x = lambda a: a + 10\n",
    "print(x(5))\n"
   ]
  },
  {
   "cell_type": "code",
   "execution_count": null,
   "id": "45476d32-8af6-4961-99f6-87827564df58",
   "metadata": {},
   "outputs": [],
   "source": [
    "ttt"
   ]
  },
  {
   "cell_type": "code",
   "execution_count": null,
   "id": "a6e37eb5-29d2-4d8f-a315-066b19dbb595",
   "metadata": {},
   "outputs": [],
   "source": []
  },
  {
   "cell_type": "code",
   "execution_count": null,
   "id": "935c4dfc-6340-4a8b-a07e-04a21f124ae8",
   "metadata": {},
   "outputs": [],
   "source": []
  },
  {
   "cell_type": "code",
   "execution_count": null,
   "id": "0d236de9-afc9-430c-8c1f-d7a2256725bb",
   "metadata": {},
   "outputs": [],
   "source": []
  },
  {
   "cell_type": "code",
   "execution_count": null,
   "id": "2c8297a1-cc7a-475b-aebc-d6c5e4f55af8",
   "metadata": {},
   "outputs": [],
   "source": []
  },
  {
   "cell_type": "code",
   "execution_count": null,
   "id": "312da285-806c-46a1-ad8b-8a736979ec48",
   "metadata": {},
   "outputs": [],
   "source": []
  }
 ],
 "metadata": {
  "kernelspec": {
   "display_name": "Python 3 (ipykernel)",
   "language": "python",
   "name": "python3"
  },
  "language_info": {
   "codemirror_mode": {
    "name": "ipython",
    "version": 3
   },
   "file_extension": ".py",
   "mimetype": "text/x-python",
   "name": "python",
   "nbconvert_exporter": "python",
   "pygments_lexer": "ipython3",
   "version": "3.10.8"
  }
 },
 "nbformat": 4,
 "nbformat_minor": 5
}
