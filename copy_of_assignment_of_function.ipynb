{
 "cells": [
  {
   "cell_type": "markdown",
   "metadata": {
    "id": "c7bEckv-jBLl"
   },
   "source": [
    "(Q)1)Write a Python function that takes a list of numbers as input and returns the sum of all even numbers in\n",
    "the list"
   ]
  },
  {
   "cell_type": "code",
   "execution_count": null,
   "metadata": {
    "colab": {
     "base_uri": "https://localhost:8080/"
    },
    "id": "mxQCmZ6JlvLF",
    "outputId": "92cf00f1-bae6-49d8-b311-9a0e861cd0f9"
   },
   "outputs": [
    {
     "data": {
      "text/plain": [
       "30"
      ]
     },
     "execution_count": 3,
     "metadata": {},
     "output_type": "execute_result"
    }
   ],
   "source": [
    "#(Ans):-\n",
    "def sum_of_even(numbers):\n",
    "    even_numbers=[]\n",
    "    for i in numbers:\n",
    "        if i % 2 == 0:\n",
    "            even_numbers.append(i)\n",
    "    return sum(even_numbers)\n",
    "sum_of_even([1,2,3,4,5,6,7,8,9,10])"
   ]
  },
  {
   "cell_type": "markdown",
   "metadata": {
    "id": "5C95qScLn-D6"
   },
   "source": [
    "(Q)2)Create a Python function that accepts a string and returns the reverse of that string"
   ]
  },
  {
   "cell_type": "code",
   "execution_count": null,
   "metadata": {
    "colab": {
     "base_uri": "https://localhost:8080/",
     "height": 35
    },
    "id": "iV--plEioEvz",
    "outputId": "42ca1d34-b20e-46e9-cde3-d4f6bf8e6571"
   },
   "outputs": [
    {
     "data": {
      "application/vnd.google.colaboratory.intrinsic+json": {
       "type": "string"
      },
      "text/plain": [
       "'sllikswP'"
      ]
     },
     "execution_count": 108,
     "metadata": {},
     "output_type": "execute_result"
    }
   ],
   "source": [
    "#(Ans):-\n",
    "def reverse_string(string):\n",
    "    return string[::-1]\n",
    "reverse_string(\"Pwskills\")"
   ]
  },
  {
   "cell_type": "markdown",
   "metadata": {
    "id": "XJ3KTQ4uqMyO"
   },
   "source": [
    "(Q)3)implement a Python function that takes a list of integers and returns a new list containing the squares of\n",
    "each number"
   ]
  },
  {
   "cell_type": "code",
   "execution_count": null,
   "metadata": {
    "colab": {
     "base_uri": "https://localhost:8080/"
    },
    "id": "I4AOhd35qZuO",
    "outputId": "5e19c9e3-38ff-4be8-e6f3-f359d3a6c801"
   },
   "outputs": [
    {
     "data": {
      "text/plain": [
       "[1, 16, 25, 49, 64, 81]"
      ]
     },
     "execution_count": 10,
     "metadata": {},
     "output_type": "execute_result"
    }
   ],
   "source": [
    "#(Ans):-\n",
    "def square_no(numbers):\n",
    "    square_of_each=[]\n",
    "    for i in numbers:\n",
    "        square_of_each.append(i**2)\n",
    "    return square_of_each\n",
    "square_no([1,4,5,7,8,9])"
   ]
  },
  {
   "cell_type": "markdown",
   "metadata": {
    "id": "7tOg977Us7TE"
   },
   "source": [
    "(Q)4)Write a Python function that checks if a given number is prime or not from 1 to 200"
   ]
  },
  {
   "cell_type": "code",
   "execution_count": null,
   "metadata": {
    "id": "OvqosWFgtIj8"
   },
   "outputs": [],
   "source": [
    "#(Ans):-\n",
    "def is_prime(numbers):\n",
    "    for i in range(numbers):\n",
    "        if numbers <= 1:\n",
    "            return False\n",
    "        else:\n",
    "             return True"
   ]
  },
  {
   "cell_type": "code",
   "execution_count": null,
   "metadata": {
    "colab": {
     "base_uri": "https://localhost:8080/"
    },
    "id": "9NdLjOibw0eF",
    "outputId": "d3705924-61fa-45ef-fe7d-43838221523e"
   },
   "outputs": [
    {
     "data": {
      "text/plain": [
       "True"
      ]
     },
     "execution_count": 60,
     "metadata": {},
     "output_type": "execute_result"
    }
   ],
   "source": [
    "\n",
    "is_prime(200)"
   ]
  },
  {
   "cell_type": "code",
   "execution_count": null,
   "metadata": {
    "colab": {
     "base_uri": "https://localhost:8080/"
    },
    "id": "i5jD4edFzm3K",
    "outputId": "f253544b-987c-4e06-cb55-0c4dbf83bb9b"
   },
   "outputs": [
    {
     "data": {
      "text/plain": [
       "False"
      ]
     },
     "execution_count": 35,
     "metadata": {},
     "output_type": "execute_result"
    }
   ],
   "source": [
    "is_prime(1)"
   ]
  },
  {
   "cell_type": "markdown",
   "metadata": {
    "id": "wBtkzbabzzNp"
   },
   "source": [
    "(Q)5)Create an iterator class in Python that generates the Fibonacci sequence up to a specified number of\n",
    "terms"
   ]
  },
  {
   "cell_type": "code",
   "execution_count": null,
   "metadata": {
    "colab": {
     "base_uri": "https://localhost:8080/"
    },
    "id": "ia2NXa-1z9iQ",
    "outputId": "2b313c6f-4a32-4509-9bfa-c250f335d976"
   },
   "outputs": [
    {
     "data": {
      "text/plain": [
       "<generator object fib at 0x7f7af0180d60>"
      ]
     },
     "execution_count": 63,
     "metadata": {},
     "output_type": "execute_result"
    }
   ],
   "source": [
    "#(Ans):-\n",
    "def fib(n):\n",
    "    a=0\n",
    "    b=1\n",
    "    for i in range(n):\n",
    "        yield a\n",
    "        a,b=b,a+b\n",
    "fib(10)"
   ]
  },
  {
   "cell_type": "code",
   "execution_count": null,
   "metadata": {
    "colab": {
     "base_uri": "https://localhost:8080/"
    },
    "id": "jvdNJjjO1H5m",
    "outputId": "2d57dac1-fedd-4d70-e0d8-e52fc0d59197"
   },
   "outputs": [
    {
     "data": {
      "text/plain": [
       "<generator object fib at 0x7f7af0180c80>"
      ]
     },
     "execution_count": 64,
     "metadata": {},
     "output_type": "execute_result"
    }
   ],
   "source": [
    "a=fib(10)\n",
    "a"
   ]
  },
  {
   "cell_type": "code",
   "execution_count": null,
   "metadata": {
    "colab": {
     "base_uri": "https://localhost:8080/"
    },
    "id": "r8dwSkuq1WMr",
    "outputId": "29392fb9-9c37-4e4d-f313-e3e0daa0a2ee"
   },
   "outputs": [
    {
     "data": {
      "text/plain": [
       "0"
      ]
     },
     "execution_count": 65,
     "metadata": {},
     "output_type": "execute_result"
    }
   ],
   "source": [
    "next(a)"
   ]
  },
  {
   "cell_type": "code",
   "execution_count": null,
   "metadata": {
    "colab": {
     "base_uri": "https://localhost:8080/"
    },
    "id": "mYtLvhwZ1YSf",
    "outputId": "116d5622-7e40-4140-ae35-62f9d81b6772"
   },
   "outputs": [
    {
     "data": {
      "text/plain": [
       "1"
      ]
     },
     "execution_count": 66,
     "metadata": {},
     "output_type": "execute_result"
    }
   ],
   "source": [
    "next(a)"
   ]
  },
  {
   "cell_type": "code",
   "execution_count": null,
   "metadata": {
    "colab": {
     "base_uri": "https://localhost:8080/"
    },
    "id": "dxlvCy0y2PBD",
    "outputId": "307b0e82-2325-4f00-f9eb-ff08dc88cb1d"
   },
   "outputs": [
    {
     "data": {
      "text/plain": [
       "1"
      ]
     },
     "execution_count": 67,
     "metadata": {},
     "output_type": "execute_result"
    }
   ],
   "source": [
    "next(a)"
   ]
  },
  {
   "cell_type": "code",
   "execution_count": null,
   "metadata": {
    "colab": {
     "base_uri": "https://localhost:8080/"
    },
    "id": "QlDehbh82PWW",
    "outputId": "dece8767-473c-4155-9c58-fbaf3a6c2dd6"
   },
   "outputs": [
    {
     "data": {
      "text/plain": [
       "2"
      ]
     },
     "execution_count": 51,
     "metadata": {},
     "output_type": "execute_result"
    }
   ],
   "source": [
    "next(a)"
   ]
  },
  {
   "cell_type": "code",
   "execution_count": null,
   "metadata": {
    "colab": {
     "base_uri": "https://localhost:8080/"
    },
    "id": "u03pvch12Pnr",
    "outputId": "c3d616a1-54dd-4e25-9776-9bffac8e0eb4"
   },
   "outputs": [
    {
     "data": {
      "text/plain": [
       "3"
      ]
     },
     "execution_count": 52,
     "metadata": {},
     "output_type": "execute_result"
    }
   ],
   "source": [
    "next(a)"
   ]
  },
  {
   "cell_type": "code",
   "execution_count": null,
   "metadata": {
    "colab": {
     "base_uri": "https://localhost:8080/"
    },
    "id": "kcbcS8Uc2P4O",
    "outputId": "5db0229f-e12e-491b-c365-b1e0a72cd623"
   },
   "outputs": [
    {
     "data": {
      "text/plain": [
       "5"
      ]
     },
     "execution_count": 53,
     "metadata": {},
     "output_type": "execute_result"
    }
   ],
   "source": [
    "next(a)"
   ]
  },
  {
   "cell_type": "code",
   "execution_count": null,
   "metadata": {
    "colab": {
     "base_uri": "https://localhost:8080/"
    },
    "id": "KBSRY7oC2QH7",
    "outputId": "a02e303f-bdba-4f03-8611-43ff5e0c2063"
   },
   "outputs": [
    {
     "data": {
      "text/plain": [
       "8"
      ]
     },
     "execution_count": 54,
     "metadata": {},
     "output_type": "execute_result"
    }
   ],
   "source": [
    "next(a)"
   ]
  },
  {
   "cell_type": "code",
   "execution_count": null,
   "metadata": {
    "colab": {
     "base_uri": "https://localhost:8080/"
    },
    "id": "_bZz3Fzs2QXU",
    "outputId": "a06199e8-ac08-4775-fcd4-b159a6119272"
   },
   "outputs": [
    {
     "data": {
      "text/plain": [
       "13"
      ]
     },
     "execution_count": 55,
     "metadata": {},
     "output_type": "execute_result"
    }
   ],
   "source": [
    "next(a)"
   ]
  },
  {
   "cell_type": "code",
   "execution_count": null,
   "metadata": {
    "colab": {
     "base_uri": "https://localhost:8080/"
    },
    "id": "vmA1ey_x2Qlg",
    "outputId": "5a778840-9ed9-4030-fc95-da35d854db9e"
   },
   "outputs": [
    {
     "data": {
      "text/plain": [
       "21"
      ]
     },
     "execution_count": 56,
     "metadata": {},
     "output_type": "execute_result"
    }
   ],
   "source": [
    "next(a)"
   ]
  },
  {
   "cell_type": "code",
   "execution_count": null,
   "metadata": {
    "colab": {
     "base_uri": "https://localhost:8080/"
    },
    "id": "aso-zzG72Q0K",
    "outputId": "0fd07d04-c819-48ec-85bc-e8c42e9341d4"
   },
   "outputs": [
    {
     "data": {
      "text/plain": [
       "34"
      ]
     },
     "execution_count": 57,
     "metadata": {},
     "output_type": "execute_result"
    }
   ],
   "source": [
    "next(a)"
   ]
  },
  {
   "cell_type": "markdown",
   "metadata": {
    "id": "MPZF63Ua3mRn"
   },
   "source": [
    "(Q)6) Write a generator function in Python that yields the powers of 2 up to a given exponent"
   ]
  },
  {
   "cell_type": "code",
   "execution_count": null,
   "metadata": {
    "colab": {
     "base_uri": "https://localhost:8080/"
    },
    "id": "Ul8HpmXt2RRm",
    "outputId": "224d5e3f-b673-4e5f-e812-db45b6fa455c"
   },
   "outputs": [
    {
     "data": {
      "text/plain": [
       "<generator object pow_exponent at 0x7f7af0181c40>"
      ]
     },
     "execution_count": 119,
     "metadata": {},
     "output_type": "execute_result"
    }
   ],
   "source": [
    "#(Ans):-\n",
    "def pow_exponent(numbers):\n",
    "    for i in range(numbers):\n",
    "        yield i*2\n",
    "pow_exponent(10)"
   ]
  },
  {
   "cell_type": "code",
   "execution_count": null,
   "metadata": {
    "colab": {
     "base_uri": "https://localhost:8080/"
    },
    "id": "NHFQB3V62Rf3",
    "outputId": "ed92caae-9cd3-47f8-a044-0cc6e61e5649"
   },
   "outputs": [
    {
     "data": {
      "text/plain": [
       "<generator object pow_exponent at 0x7f7af01820a0>"
      ]
     },
     "execution_count": 120,
     "metadata": {},
     "output_type": "execute_result"
    }
   ],
   "source": [
    "a=pow_exponent(10)\n",
    "a"
   ]
  },
  {
   "cell_type": "code",
   "execution_count": null,
   "metadata": {
    "colab": {
     "base_uri": "https://localhost:8080/"
    },
    "id": "dxZgXJve7fVN",
    "outputId": "67317213-dce4-4721-f319-df79fae87ede"
   },
   "outputs": [
    {
     "data": {
      "text/plain": [
       "0"
      ]
     },
     "execution_count": 121,
     "metadata": {},
     "output_type": "execute_result"
    }
   ],
   "source": [
    "next(a)"
   ]
  },
  {
   "cell_type": "code",
   "execution_count": null,
   "metadata": {
    "colab": {
     "base_uri": "https://localhost:8080/"
    },
    "id": "GbJiBTIS7hax",
    "outputId": "732230ce-f695-42a2-f278-751c09c7f1a5"
   },
   "outputs": [
    {
     "data": {
      "text/plain": [
       "2"
      ]
     },
     "execution_count": 122,
     "metadata": {},
     "output_type": "execute_result"
    }
   ],
   "source": [
    "next(a)"
   ]
  },
  {
   "cell_type": "code",
   "execution_count": null,
   "metadata": {
    "colab": {
     "base_uri": "https://localhost:8080/"
    },
    "id": "OyhPu2qF7jbk",
    "outputId": "ff1a9537-e55e-4f51-a4af-e4ca81c91fc3"
   },
   "outputs": [
    {
     "data": {
      "text/plain": [
       "4"
      ]
     },
     "execution_count": 123,
     "metadata": {},
     "output_type": "execute_result"
    }
   ],
   "source": [
    "next(a)"
   ]
  },
  {
   "cell_type": "code",
   "execution_count": null,
   "metadata": {
    "colab": {
     "base_uri": "https://localhost:8080/"
    },
    "id": "n4s0yDz17lYR",
    "outputId": "48db7c1f-9dc1-482d-bc62-b3932afa7ccd"
   },
   "outputs": [
    {
     "data": {
      "text/plain": [
       "6"
      ]
     },
     "execution_count": 124,
     "metadata": {},
     "output_type": "execute_result"
    }
   ],
   "source": [
    "next(a)"
   ]
  },
  {
   "cell_type": "code",
   "execution_count": null,
   "metadata": {
    "colab": {
     "base_uri": "https://localhost:8080/"
    },
    "id": "8d09xIwW7nJP",
    "outputId": "17eaec1b-34b9-4ca1-9773-9aa9d9dc50b0"
   },
   "outputs": [
    {
     "data": {
      "text/plain": [
       "8"
      ]
     },
     "execution_count": 125,
     "metadata": {},
     "output_type": "execute_result"
    }
   ],
   "source": [
    "next(a)"
   ]
  },
  {
   "cell_type": "code",
   "execution_count": null,
   "metadata": {
    "colab": {
     "base_uri": "https://localhost:8080/"
    },
    "id": "BIygC14b7o5c",
    "outputId": "0bea521a-4253-42ff-b262-3f8aadb2db73"
   },
   "outputs": [
    {
     "data": {
      "text/plain": [
       "10"
      ]
     },
     "execution_count": 126,
     "metadata": {},
     "output_type": "execute_result"
    }
   ],
   "source": [
    "next(a)"
   ]
  },
  {
   "cell_type": "code",
   "execution_count": null,
   "metadata": {
    "colab": {
     "base_uri": "https://localhost:8080/"
    },
    "id": "i-QT_pUXBTTM",
    "outputId": "06c286ae-8d33-400d-eb3e-ea4e50211bbe"
   },
   "outputs": [
    {
     "data": {
      "text/plain": [
       "12"
      ]
     },
     "execution_count": 127,
     "metadata": {},
     "output_type": "execute_result"
    }
   ],
   "source": [
    "next(a)"
   ]
  },
  {
   "cell_type": "markdown",
   "metadata": {
    "id": "ukk6a_FmCB6F"
   },
   "source": [
    "(Q)7)Implement a generator function that reads a file line by line and yields each line as a string"
   ]
  },
  {
   "cell_type": "code",
   "execution_count": null,
   "metadata": {
    "colab": {
     "base_uri": "https://localhost:8080/",
     "height": 578
    },
    "id": "uDRZjT00Ev7e",
    "outputId": "da77b485-9793-4310-dfa9-11e68121b293"
   },
   "outputs": [
    {
     "ename": "FileNotFoundError",
     "evalue": "[Errno 2] No such file or directory: 'large_file.txt'",
     "output_type": "error",
     "traceback": [
      "\u001b[0;31m---------------------------------------------------------------------------\u001b[0m",
      "\u001b[0;31mFileNotFoundError\u001b[0m                         Traceback (most recent call last)",
      "\u001b[0;32m<ipython-input-166-b43a867be005>\u001b[0m in \u001b[0;36m<cell line: 8>\u001b[0;34m()\u001b[0m\n\u001b[1;32m      6\u001b[0m \u001b[0;34m\u001b[0m\u001b[0m\n\u001b[1;32m      7\u001b[0m \u001b[0;31m# Example\u001b[0m\u001b[0;34m\u001b[0m\u001b[0;34m\u001b[0m\u001b[0m\n\u001b[0;32m----> 8\u001b[0;31m \u001b[0;32mfor\u001b[0m \u001b[0mline\u001b[0m \u001b[0;32min\u001b[0m \u001b[0mread_file_line_by_line\u001b[0m\u001b[0;34m(\u001b[0m\u001b[0;34m'large_file.txt'\u001b[0m\u001b[0;34m)\u001b[0m\u001b[0;34m:\u001b[0m\u001b[0;34m\u001b[0m\u001b[0;34m\u001b[0m\u001b[0m\n\u001b[0m\u001b[1;32m      9\u001b[0m     \u001b[0mprint\u001b[0m\u001b[0;34m(\u001b[0m\u001b[0mline\u001b[0m\u001b[0;34m)\u001b[0m\u001b[0;34m\u001b[0m\u001b[0;34m\u001b[0m\u001b[0m\n",
      "\u001b[0;32m<ipython-input-166-b43a867be005>\u001b[0m in \u001b[0;36mread_file_line_by_line\u001b[0;34m(file_path)\u001b[0m\n\u001b[1;32m      1\u001b[0m \u001b[0;31m#(Ans):-\u001b[0m\u001b[0;34m\u001b[0m\u001b[0;34m\u001b[0m\u001b[0m\n\u001b[1;32m      2\u001b[0m \u001b[0;32mdef\u001b[0m \u001b[0mread_file_line_by_line\u001b[0m\u001b[0;34m(\u001b[0m\u001b[0mfile_path\u001b[0m\u001b[0;34m)\u001b[0m\u001b[0;34m:\u001b[0m\u001b[0;34m\u001b[0m\u001b[0;34m\u001b[0m\u001b[0m\n\u001b[0;32m----> 3\u001b[0;31m     \u001b[0;32mwith\u001b[0m \u001b[0mopen\u001b[0m\u001b[0;34m(\u001b[0m\u001b[0mfile_path\u001b[0m\u001b[0;34m,\u001b[0m \u001b[0;34m'r'\u001b[0m\u001b[0;34m)\u001b[0m \u001b[0;32mas\u001b[0m \u001b[0mfile\u001b[0m\u001b[0;34m:\u001b[0m\u001b[0;34m\u001b[0m\u001b[0;34m\u001b[0m\u001b[0m\n\u001b[0m\u001b[1;32m      4\u001b[0m         \u001b[0;32mfor\u001b[0m \u001b[0mline\u001b[0m \u001b[0;32min\u001b[0m \u001b[0mfile\u001b[0m\u001b[0;34m:\u001b[0m\u001b[0;34m\u001b[0m\u001b[0;34m\u001b[0m\u001b[0m\n\u001b[1;32m      5\u001b[0m             \u001b[0;32myield\u001b[0m \u001b[0mline\u001b[0m\u001b[0;34m.\u001b[0m\u001b[0mstrip\u001b[0m\u001b[0;34m(\u001b[0m\u001b[0;34m)\u001b[0m\u001b[0;34m\u001b[0m\u001b[0;34m\u001b[0m\u001b[0m\n",
      "\u001b[0;31mFileNotFoundError\u001b[0m: [Errno 2] No such file or directory: 'large_file.txt'"
     ]
    }
   ],
   "source": [
    "#(Ans):-\n",
    "def read_file_line_by_line(file_path):\n",
    "    with open(file_path, 'r') as file:\n",
    "        for line in file:\n",
    "            yield line.strip()\n",
    "\n",
    "# Example\n",
    "for line in read_file_line_by_line('large_file.txt'):\n",
    "    print(line)"
   ]
  },
  {
   "cell_type": "markdown",
   "metadata": {
    "id": "tT55Qd7IEwQ5"
   },
   "source": [
    "(Q)8)Use a lambda function in Python to sort a list of tuples based on the second element of each tuple"
   ]
  },
  {
   "cell_type": "code",
   "execution_count": null,
   "metadata": {
    "id": "BFfKOC1OE7W9"
   },
   "outputs": [],
   "source": [
    "#(Ans):-\n",
    "data=[(1,\"Apple\"),(2,\"orange\"),(3,\"banana\"),(4,\"grape\")]\n",
    "Sorted_data=sorted(data,key=lambda x: x[1])"
   ]
  },
  {
   "cell_type": "code",
   "execution_count": null,
   "metadata": {
    "colab": {
     "base_uri": "https://localhost:8080/"
    },
    "id": "qDasMLYjH7Ln",
    "outputId": "1a1f4bb0-57c4-40ad-9e7b-61d22296cf91"
   },
   "outputs": [
    {
     "name": "stdout",
     "output_type": "stream",
     "text": [
      "[(1, 'Apple'), (3, 'banana'), (4, 'grape'), (2, 'orange')]\n"
     ]
    }
   ],
   "source": [
    "print(Sorted_data)"
   ]
  },
  {
   "cell_type": "markdown",
   "metadata": {
    "id": "gPvUgCIKJhW_"
   },
   "source": [
    "(Q)9)Write a Python program that uses `map()` to convert a list of temperatures from Celsius to Fahrenheit"
   ]
  },
  {
   "cell_type": "code",
   "execution_count": null,
   "metadata": {
    "colab": {
     "base_uri": "https://localhost:8080/"
    },
    "id": "DBUW4Hn0JqLt",
    "outputId": "cb9032d8-8291-47a3-f67b-3dbd36123ed6"
   },
   "outputs": [
    {
     "data": {
      "text/plain": [
       "[50.0, 68.0, 86.0, 104.0]"
      ]
     },
     "execution_count": 156,
     "metadata": {},
     "output_type": "execute_result"
    }
   ],
   "source": [
    "#(Ans):-\n",
    "list_temp=[10,20,30,40]\n",
    "def farhanite(celcius):\n",
    "        return celcius*9/5+32\n",
    "list(map(farhanite,list_temp))"
   ]
  },
  {
   "cell_type": "markdown",
   "metadata": {
    "id": "TbwaPdn9Qd9v"
   },
   "source": [
    "(Q)10) Create a Python program that uses `filter()` to remove all the vowels from a given string"
   ]
  },
  {
   "cell_type": "code",
   "execution_count": null,
   "metadata": {
    "colab": {
     "base_uri": "https://localhost:8080/"
    },
    "id": "H008u28XXOEx",
    "outputId": "e0344c3a-5b96-40c0-b3d0-7e9f6008c03d"
   },
   "outputs": [
    {
     "data": {
      "text/plain": [
       "['l', 'p', 'h', 'n', 't', ' ', 'r', ' ', 'r', 'n', 'n', 'n', 'g']"
      ]
     },
     "execution_count": 163,
     "metadata": {},
     "output_type": "execute_result"
    }
   ],
   "source": [
    "str_vowels=\"aeiouAEIOU\"\n",
    "string=\"Elephant are running\"\n",
    "def vowels_str(vowels):\n",
    "    result = \"\"\n",
    "    for i in vowels:\n",
    "        if i not in str_vowels:  # Check if character is NOT a vowel\n",
    "            result += i  # Add it to the result if not a vowel\n",
    "    return result  # Return the string without vowels\n",
    "\n",
    "list(filter(vowels_str,string))"
   ]
  },
  {
   "cell_type": "code",
   "execution_count": 8,
   "metadata": {},
   "outputs": [],
   "source": [
    "# Q11. Imagine an accounting routine used in a book shop. It works on a list with sublists, which look like this: \n",
    "\n",
    "#Order Number  \tBook Title and Author\tQuantity\tPrice per Item\n",
    "# 34587\t        Learning Python, Mark Lutz      \t4\t     40.95\n",
    "# 98762\t       Programming Python, Mark Lutz\t    5\t     56.80\n",
    "# 77226\t       Head First Python, Paul Barry     \t3\t     32.95\n",
    "# 88112\t       Einführung in Python3, Bernd Klein\t3\t     24.99\n",
    "\n",
    "#Write a Python program, which returns a list with 2-tuples. Each tuple consists of a the order number and the product of the price per items and the quantity. The product sld be increased by 10,- € if the value of the order is less than 100,00 €. Write a Python program using lambda and map.'''"
   ]
  },
  {
   "cell_type": "code",
   "execution_count": 15,
   "metadata": {},
   "outputs": [
    {
     "ename": "SyntaxError",
     "evalue": "'(' was never closed (3527359500.py, line 15)",
     "output_type": "error",
     "traceback": [
      "\u001b[0;36m  Cell \u001b[0;32mIn[15], line 15\u001b[0;36m\u001b[0m\n\u001b[0;31m    output4=map(lambda x:(x[0],reduce(lambda a,b:a+b,list(map(lambda y:y[1]*y[2] ,x[1:]))))\u001b[0m\n\u001b[0m               ^\u001b[0m\n\u001b[0;31mSyntaxError\u001b[0m\u001b[0;31m:\u001b[0m '(' was never closed\n"
     ]
    }
   ],
   "source": [
    "#Ans-->>\n",
    "\n",
    "from functools import reduce\n",
    "\n",
    "orders = [ [1, (\"5464\", 4, 9.99), (\"8274\",18,12.99), (\"9744\", 9, 44.95)],[2, (\"5464\", 9, 9.99), (\"9744\", 9, 44.95)],[3, (\"5464\", 9, 9.99), (\"88112\", 11, 24.99)],[4, (\"8732\", 7, 11.99), (\"7733\",11,18.99), (\"88112\", 5, 39.95)] ]\n",
    "\n",
    "invoice = list(map(lambda k: k if k[1]>=100 else (k[0],k[1]+10),map(lambda x:(x[0],reduce(lambda a,b:a+b,list(map(lambda y:y[1]*y[2] ,x[1:])))),orders)))\n",
    "\n",
    "#Breaking\n",
    "\n",
    "\n",
    "output1=map(lambda y:y[1]*y[2] ,x[1:])\n",
    "output2=list(map(lambda y:y[1]*y[2] ,x[1:]))\n",
    "output3=reduce(lambda a,b:a+b,list(map(lambda y:y[1]*y[2] ,x[1:])))\n",
    "output4=map(lambda x:(x[0],reduce(lambda a,b:a+b,list(map(lambda y:y[1]*y[2] ,x[1:]))))\n",
    "output5=map(lambda k: k if k[1]>=100 else (k[0],k[1]+10),map(lambda x:(x[0],reduce(lambda a,b:a+b,list(map(lambda y:y[1]*y[2] ,x[1:])))),orders))\n",
    "output6=list(map(lambda k: k if k[1]>=100 else (k[0],k[1]+10),map(lambda x:(x[0],reduce(lambda a,b:a+b,list(map(lambda y:y[1]*y[2] ,x[1:])))),orders)))"
   ]
  },
  {
   "cell_type": "code",
   "execution_count": null,
   "metadata": {},
   "outputs": [],
   "source": []
  }
 ],
 "metadata": {
  "colab": {
   "include_colab_link": true,
   "provenance": []
  },
  "kernelspec": {
   "display_name": "Python 3 (ipykernel)",
   "language": "python",
   "name": "python3"
  },
  "language_info": {
   "codemirror_mode": {
    "name": "ipython",
    "version": 3
   },
   "file_extension": ".py",
   "mimetype": "text/x-python",
   "name": "python",
   "nbconvert_exporter": "python",
   "pygments_lexer": "ipython3",
   "version": "3.10.8"
  }
 },
 "nbformat": 4,
 "nbformat_minor": 4
}
